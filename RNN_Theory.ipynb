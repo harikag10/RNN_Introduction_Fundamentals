{
  "nbformat": 4,
  "nbformat_minor": 0,
  "metadata": {
    "colab": {
      "name": "RNN_Theory.ipynb",
      "provenance": [],
      "include_colab_link": true
    },
    "kernelspec": {
      "name": "python3",
      "display_name": "Python 3"
    }
  },
  "cells": [
    {
      "cell_type": "markdown",
      "metadata": {
        "id": "view-in-github",
        "colab_type": "text"
      },
      "source": [
        "<a href=\"https://colab.research.google.com/github/ikyath/RNN_Introduction_Fundamentals/blob/master/RNN_Theory.ipynb\" target=\"_parent\"><img src=\"https://colab.research.google.com/assets/colab-badge.svg\" alt=\"Open In Colab\"/></a>"
      ]
    },
    {
      "cell_type": "markdown",
      "metadata": {
        "id": "kLyGaLAlk1Pa",
        "colab_type": "text"
      },
      "source": [
        "# Introduction\n"
      ]
    },
    {
      "cell_type": "markdown",
      "metadata": {
        "id": "hC5R0m-_qEiJ",
        "colab_type": "text"
      },
      "source": [
        "Time Series"
      ]
    },
    {
      "cell_type": "markdown",
      "metadata": {
        "id": "n6kY_z_wqQSJ",
        "colab_type": "text"
      },
      "source": [
        "A time series is a series of data points indexed (or listed or graphed) in time order. Most commonly, a time series is a sequence taken at successive equally spaced points in time. Thus it is a sequence of discrete-time data\n",
        "\n",
        "\n",
        "\n",
        "\n",
        "\n",
        "\n",
        "\n",
        "\n",
        "\n"
      ]
    },
    {
      "cell_type": "markdown",
      "metadata": {
        "id": "A-Z4S5NDrPXJ",
        "colab_type": "text"
      },
      "source": [
        "Example - Weather\n",
        "\n",
        "Weather is a dynamical System\n",
        "\n",
        "  See : Chaos Theory,Butterfly effect"
      ]
    },
    {
      "cell_type": "markdown",
      "metadata": {
        "id": "gy3xWZoosYZc",
        "colab_type": "text"
      },
      "source": [
        "![alt text](https://i.ytimg.com/vi/D6jln7pqn70/maxresdefault.jpg)"
      ]
    },
    {
      "cell_type": "markdown",
      "metadata": {
        "id": "q9C7s7VqsHhR",
        "colab_type": "text"
      },
      "source": [
        "This is that even if we have the exact deterministic equations to describe a weather system our forecast will still become more and more incorrect.\n",
        "\n",
        "The further into the future we try to predict that's pretty counterintuitive because you would think if you have the exact equation for something then you should be able to calculate all the future values precisely but due to the butterfly effect this is not actually true.\n",
        "\n",
        "As the saying goes a butterfly flapping its wings in Tokyo can cause a tornado in America.\n",
        "\n",
        "Small and decisions like numerical round off error and your computer will ultimately lead it to your weather forecast being completely wrong eventually.This is actually really relevant to us because when you think of time series and our own ends you automatically"
      ]
    },
    {
      "cell_type": "markdown",
      "metadata": {
        "id": "XyGEAFgxtB5m",
        "colab_type": "text"
      },
      "source": [
        "![alt text](https://media.graytvinc.com/images/810*455/lnk+wx1.jpg)\n",
        "\n",
        "\n",
        "\n",
        "\n",
        "\n",
        "\n",
        "\n",
        "\n",
        "\n",
        "\n",
        "\n",
        "\n",
        "\n",
        "\n",
        "\n",
        "\n",
        "\n",
        "\n",
        "\n",
        "\n"
      ]
    },
    {
      "cell_type": "markdown",
      "metadata": {
        "id": "Y07WWouiu4Xk",
        "colab_type": "text"
      },
      "source": [
        "Another type of Sequential data is Text but in machine learning we don't consider it as sequence"
      ]
    },
    {
      "cell_type": "markdown",
      "metadata": {
        "id": "Pcjzxwj50NbL",
        "colab_type": "text"
      },
      "source": [
        "Forecasting is about to predict the next values in a timeseries"
      ]
    },
    {
      "cell_type": "markdown",
      "metadata": {
        "id": "beh-APbe2nwp",
        "colab_type": "text"
      },
      "source": [
        "# RNNs"
      ]
    },
    {
      "cell_type": "markdown",
      "metadata": {
        "id": "nnRW4pVZ3LDL",
        "colab_type": "text"
      },
      "source": [
        "\n",
        "\n",
        "*  The brain consists of billion of neurons, without any single duration.\n",
        "*  A Decision made now is not only based only on what you hear/see now.\n",
        "*  We can think and reason based on past inputs.\n",
        "*  What happens if we add feedback loops and memory to neural network.\n",
        "\n",
        "\n",
        "\n",
        "\n",
        "\n",
        "\n",
        "\n"
      ]
    },
    {
      "cell_type": "markdown",
      "metadata": {
        "id": "GAxleSxI-SDT",
        "colab_type": "text"
      },
      "source": [
        "Traditional neural networks can’t do this, and it seems like a major shortcoming. For example, imagine you want to classify what kind of event is happening at every point in a movie. It’s unclear how a traditional neural network could use its reasoning about previous events in the film to inform later ones."
      ]
    },
    {
      "cell_type": "code",
      "metadata": {
        "id": "nViCHcc_sRnt",
        "colab_type": "code",
        "colab": {}
      },
      "source": [
        ""
      ],
      "execution_count": 0,
      "outputs": []
    }
  ]
}