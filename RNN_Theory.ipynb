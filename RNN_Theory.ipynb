{
  "nbformat": 4,
  "nbformat_minor": 0,
  "metadata": {
    "colab": {
      "name": "RNN_Theory.ipynb",
      "provenance": [],
      "collapsed_sections": [],
      "toc_visible": true,
      "include_colab_link": true
    },
    "kernelspec": {
      "name": "python3",
      "display_name": "Python 3"
    }
  },
  "cells": [
    {
      "cell_type": "markdown",
      "metadata": {
        "id": "view-in-github",
        "colab_type": "text"
      },
      "source": [
        "<a href=\"https://colab.research.google.com/github/ikyath/RNN_Introduction_Fundamentals/blob/master/RNN_Theory.ipynb\" target=\"_parent\"><img src=\"https://colab.research.google.com/assets/colab-badge.svg\" alt=\"Open In Colab\"/></a>"
      ]
    },
    {
      "cell_type": "markdown",
      "metadata": {
        "id": "kLyGaLAlk1Pa",
        "colab_type": "text"
      },
      "source": [
        "# Time Series\n"
      ]
    },
    {
      "cell_type": "markdown",
      "metadata": {
        "id": "n6kY_z_wqQSJ",
        "colab_type": "text"
      },
      "source": [
        "A time series is a series of data points indexed (or listed or graphed) in time order. Most commonly, a time series is a sequence taken at successive equally spaced points in time. Thus it is a sequence of discrete-time data\n",
        "\n",
        "\n",
        "\n",
        "\n",
        "\n",
        "\n",
        "\n",
        "\n",
        "\n"
      ]
    },
    {
      "cell_type": "markdown",
      "metadata": {
        "id": "A-Z4S5NDrPXJ",
        "colab_type": "text"
      },
      "source": [
        "Example - Weather\n",
        "\n",
        "Weather is a dynamical System\n",
        "\n",
        "  See : Chaos Theory,Butterfly effect"
      ]
    },
    {
      "cell_type": "markdown",
      "metadata": {
        "id": "gy3xWZoosYZc",
        "colab_type": "text"
      },
      "source": [
        "![alt text](https://i.ytimg.com/vi/D6jln7pqn70/maxresdefault.jpg)"
      ]
    },
    {
      "cell_type": "markdown",
      "metadata": {
        "id": "q9C7s7VqsHhR",
        "colab_type": "text"
      },
      "source": [
        "This is that even if we have the exact deterministic equations to describe a weather system our forecast will still become more and more incorrect.\n",
        "\n",
        "The further into the future we try to predict that's pretty counterintuitive because you would think if you have the exact equation for something then you should be able to calculate all the future values precisely but due to the butterfly effect this is not actually true.\n",
        "\n",
        "As the saying goes a butterfly flapping its wings in Tokyo can cause a tornado in America.\n",
        "\n",
        "Small and decisions like numerical round off error and your computer will ultimately lead it to your weather forecast being completely wrong eventually.This is actually really relevant to us because when you think of time series and our own ends you automatically"
      ]
    },
    {
      "cell_type": "markdown",
      "metadata": {
        "id": "XyGEAFgxtB5m",
        "colab_type": "text"
      },
      "source": [
        "![alt text](https://media.graytvinc.com/images/810*455/lnk+wx1.jpg)\n",
        "\n",
        "\n",
        "\n",
        "\n",
        "\n",
        "\n",
        "\n",
        "\n",
        "\n",
        "\n",
        "\n",
        "\n",
        "\n",
        "\n",
        "\n",
        "\n",
        "\n",
        "\n",
        "\n",
        "\n"
      ]
    },
    {
      "cell_type": "markdown",
      "metadata": {
        "id": "Y07WWouiu4Xk",
        "colab_type": "text"
      },
      "source": [
        "Another type of Sequential data is Text but in machine learning we don't consider it as sequence"
      ]
    },
    {
      "cell_type": "markdown",
      "metadata": {
        "id": "Pcjzxwj50NbL",
        "colab_type": "text"
      },
      "source": [
        "Forecasting is about to predict the next values in a timeseries"
      ]
    },
    {
      "cell_type": "markdown",
      "metadata": {
        "id": "uWaZOIiF5MAj",
        "colab_type": "text"
      },
      "source": [
        "# Sequence Data"
      ]
    },
    {
      "cell_type": "markdown",
      "metadata": {
        "id": "kmAb9yjv-vmZ",
        "colab_type": "text"
      },
      "source": [
        "\n",
        "Study of machine learning algorithms designed for sequential data is known as sequence learning"
      ]
    },
    {
      "cell_type": "markdown",
      "metadata": {
        "id": "SkvRtJTz6Lbe",
        "colab_type": "text"
      },
      "source": [
        "In a neural network, you have one output per input. You have an image and you have a label, for instance. There is no way you can input image after image on Neural Networks and get an output based on all of them. The nature of neural networks make them unable to process sequential data.\n",
        "\n",
        "So, in a feed forward neural network, output at a time t is independent of the output at time (t-1)."
      ]
    },
    {
      "cell_type": "markdown",
      "metadata": {
        "id": "R6ynLB8u6QlZ",
        "colab_type": "text"
      },
      "source": [
        "On the other hand, RNNs work very well with sequential data. They have a mechanism of “remembering” the previous inputs and producing an output based on all of the inputs. This makes them well-suited for sequential type of data such as text, audio, video or any time-series data."
      ]
    },
    {
      "cell_type": "markdown",
      "metadata": {
        "id": "cfKtP9LC5wQh",
        "colab_type": "text"
      },
      "source": [
        "![alt text](https://media1.giphy.com/media/119h7q3m9c5Tfa/source.gif)"
      ]
    },
    {
      "cell_type": "markdown",
      "metadata": {
        "id": "nnRW4pVZ3LDL",
        "colab_type": "text"
      },
      "source": [
        "\n",
        "\n",
        "*  The brain consists of billion of neurons, without any single duration.\n",
        "*  A Decision made now is not only based only on what you hear/see now.\n",
        "*  We can think and reason based on past inputs.\n",
        "*  What happens if we add feedback loops and memory to neural network.\n",
        "\n",
        "\n",
        "\n",
        "\n",
        "\n",
        "\n",
        "\n"
      ]
    },
    {
      "cell_type": "markdown",
      "metadata": {
        "id": "GAxleSxI-SDT",
        "colab_type": "text"
      },
      "source": [
        "Traditional neural networks can’t do this, and it seems like a major shortcoming. For example, imagine you want to classify what kind of event is happening at every point in a movie. It’s unclear how a traditional neural network could use its reasoning about previous events in the film to inform later ones."
      ]
    },
    {
      "cell_type": "markdown",
      "metadata": {
        "id": "nS3THBKe7Dgd",
        "colab_type": "text"
      },
      "source": [
        "#**RNNs**"
      ]
    },
    {
      "cell_type": "markdown",
      "metadata": {
        "id": "7LC_BMcKuvDa",
        "colab_type": "text"
      },
      "source": [
        "RNN is a type of artificial neural network that is designed to recognize patterns in sequential data such as text, genomes, numerical time series data resulting from sensors, stock markets etc"
      ]
    },
    {
      "cell_type": "markdown",
      "metadata": {
        "id": "tqT3zmM88w-o",
        "colab_type": "text"
      },
      "source": [
        "## **Basic Architecture of RNN**"
      ]
    },
    {
      "cell_type": "markdown",
      "metadata": {
        "id": "pfKYeRQg8xOe",
        "colab_type": "text"
      },
      "source": [
        "\n",
        "\n",
        "![alt text](https://pydeeplearning.weebly.com/uploads/9/8/4/2/98422174/rnn_orig.png)\n",
        "\n",
        "\n",
        "\n",
        "\n",
        "\n"
      ]
    },
    {
      "cell_type": "markdown",
      "metadata": {
        "id": "P0oCddciwQ6D",
        "colab_type": "text"
      },
      "source": [
        "Let us discuss the maths behind this structure in detail "
      ]
    },
    {
      "cell_type": "markdown",
      "metadata": {
        "id": "HJaYdRh-woy0",
        "colab_type": "text"
      },
      "source": [
        "![alt text](https://i.stack.imgur.com/aJL7l.png)"
      ]
    },
    {
      "cell_type": "markdown",
      "metadata": {
        "id": "Fm7Nve6W9WkE",
        "colab_type": "text"
      },
      "source": [
        "The above image show a RNN being unfolded to a full network, Xt is input to the network at time t, ht is the hidden state at time t also referred to as the memory of the network. It is calculated based on previous hidden state and current input.\n",
        "\n",
        "Represented by ht= f (U*Xt +W*ht-1 +bh)\n",
        "\n",
        "Here U and W are weights for input and previous state value input, bh is the bias associated to the hidden network And f is the non-linearity applied to the sum to generate final cell state.\n",
        "\n",
        "And ouput at time t is calculated as shown below \n",
        "Ot = f (W*ht + bo)\n",
        "b0 is the bias for the output layer"
      ]
    },
    {
      "cell_type": "markdown",
      "metadata": {
        "id": "cLYzjGuxx1gy",
        "colab_type": "text"
      },
      "source": [
        "**Training an RNN**"
      ]
    },
    {
      "cell_type": "markdown",
      "metadata": {
        "id": "HEYk108Wx9ya",
        "colab_type": "text"
      },
      "source": [
        "To train a Recurrent Neural Network , we use back propagation as in any feed forward neural network. But as the back propagation happens for every time stamp, it is commonly referred to as Back propagation through time (BTT).\n",
        "\n",
        "Lets discuss the issues faced during back propagation- \n",
        "\n",
        "Training a neural network implies we need to update the weights associated to the layers.The weights are updated as follows\n",
        "Wnew = Wold + (n*dL/dW)\n",
        "\n",
        "Wnew - new value of weight, Wold - old value, n - learning rate\n",
        "L- Loss or the error in prediction, defined as (Actual o/p - Predicted o/p)^2\n",
        "dL/dW - is the gradient of the loss with respect to the weight we want to update.\n",
        "\n",
        "When this dL/dW is too small << << 1 -> change in W is too small , so there is no much change in the value of weights, this is called as the \n",
        "**Vanishing Gradient Problem**\n",
        "\n",
        "For example, if we want to predict the next word in a sentence and the sentence is too long, which would require us to go back by many steps to understand the context. This would lead to the dL/dW to become small and this is also referred to  as **long term dependencies** \n",
        "\n",
        "On the contrary, the gradient dL/dW can become too large , which leads to huge changes in the weights and this leads to the Exploding Gradient Problem\n",
        "**Exploding Gradient Problem**\n",
        "\n",
        "\n",
        "\n"
      ]
    },
    {
      "cell_type": "markdown",
      "metadata": {
        "id": "KEcNRUOAlrWB",
        "colab_type": "text"
      },
      "source": [
        "## **Vanishing Gradient Problem**"
      ]
    },
    {
      "cell_type": "markdown",
      "metadata": {
        "id": "2KNmcprLlw58",
        "colab_type": "text"
      },
      "source": [
        "As we know, the gradient descent algorithm finds the global minimum of the cost function that is going to be an optimal setup for a network\n",
        "\n",
        "In RNNs\n",
        "\n",
        "*  Information travels through time, which means that information from previous timepoint is feed as input to the next timepoint.\n",
        "*   We can calculate the error, at each point.\n",
        "\n",
        "Lets look into error which is calcualted after forward pass,\n",
        "\n",
        "In the backpropagation process, we adjust our weight matrices with the use of a gradient. In the process, gradients are calculated by continuous multiplications of derivatives. The value of these derivatives may be so small, that these continuous multiplications may cause the gradient to practically “vanish”.\n",
        "\n"
      ]
    },
    {
      "cell_type": "markdown",
      "metadata": {
        "id": "hYl_YlFNmDT-",
        "colab_type": "text"
      },
      "source": [
        "RNNs suffer from the problem of vanishing gradients, which hampers learning of long data sequences"
      ]
    },
    {
      "cell_type": "markdown",
      "metadata": {
        "id": "Vj0Z-s-f2BFC",
        "colab_type": "text"
      },
      "source": [
        "FOr instance we have a sentence like \n",
        "' I went to France, - - - -. And now I speak _? ' \n",
        "\n",
        "So in this particular sentence, after *France*, there are say 4-5 words and then the sentence , *I speak* and we need to predict the next word. In order to do that , we need to go way back in the sentence to understand the context and then predict the word as, which in this case is *'French'* . \n",
        "\n",
        "This is commomly referred to as the 'Long term dependency'\n",
        "\n"
      ]
    },
    {
      "cell_type": "markdown",
      "metadata": {
        "id": "hBOl_mIlaqFa",
        "colab_type": "text"
      },
      "source": [
        "# **LSTMs**"
      ]
    },
    {
      "cell_type": "markdown",
      "metadata": {
        "id": "NvgS4pfmasRo",
        "colab_type": "text"
      },
      "source": [
        "LSTMs are special kind of RNNs, designed explicitly to overcome the long term dependency problem. The repeating modules of neural networks in LSTM have a complex structure compared to that of RNN.\n",
        "The repeating module in LSTM has four interacting layers\n",
        "Memory cell\n",
        "\n",
        "*   Memory cell\n",
        "*   Forget gate\n",
        "*   Input \n",
        "*   Output\n",
        "\n",
        "\n",
        "\n",
        "\n"
      ]
    },
    {
      "cell_type": "markdown",
      "metadata": {
        "id": "Qd6QKUqOduiq",
        "colab_type": "text"
      },
      "source": [
        "![alt text](https://colah.github.io/posts/2015-08-Understanding-LSTMs/img/LSTM3-chain.png)"
      ]
    },
    {
      "cell_type": "markdown",
      "metadata": {
        "id": "FiBvIYKXd5ll",
        "colab_type": "text"
      },
      "source": [
        "Now lets look familiarize with the notations \n",
        "![alt text](https://colah.github.io/posts/2015-08-Understanding-LSTMs/img/LSTM2-notation.png)"
      ]
    },
    {
      "cell_type": "markdown",
      "metadata": {
        "id": "diB_Icdceauc",
        "colab_type": "text"
      },
      "source": [
        "\n",
        "\n",
        "*   Memory/Cell-state - This is represented as the horizontal layer running through the top of the diagram. It has some linear transformations as pointwise multiplication and addition\n",
        "*   Gates - These are used to optionally let information through using sigmoid neural network layers, which outputs in either 0 or 1, representing the information which we want to leave or the information we want to persist.\n",
        "\n"
      ]
    },
    {
      "cell_type": "markdown",
      "metadata": {
        "id": "A7LqfLpIxjU8",
        "colab_type": "text"
      },
      "source": [
        "## **Walk-through of LSTM**"
      ]
    },
    {
      "cell_type": "markdown",
      "metadata": {
        "id": "4RhPOYSAxtzW",
        "colab_type": "text"
      },
      "source": [
        "Let us consider an example of text prediction, where we are trying to predict the next word based on the previous words to understand the working of LSTM metwork."
      ]
    },
    {
      "cell_type": "markdown",
      "metadata": {
        "id": "eMQ7qLhZdpij",
        "colab_type": "text"
      },
      "source": [
        "Firstly, we need to decide what information we want to remember and what to forget. This is decided using a sigmoid layer called the 'forget gate' layer. Here the output of sigmod activation function as we know is between 0 and 1 for each number in the cell state C(t-1), taking as inputs  h(t-1), the output from the previous layer and the x(t), the current input of the layer.\n",
        "A '0' indicates that we can forget about that information and discard it and '1' indicates that we need to remember it.\n",
        "\n"
      ]
    },
    {
      "cell_type": "markdown",
      "metadata": {
        "id": "Fp4cyiNQ30_M",
        "colab_type": "text"
      },
      "source": [
        "![alt text](https://colah.github.io/posts/2015-08-Understanding-LSTMs/img/LSTM3-focus-f.png)"
      ]
    },
    {
      "cell_type": "markdown",
      "metadata": {
        "id": "xr7xYFOY3yrG",
        "colab_type": "text"
      },
      "source": [
        "Let us understand it by going to back to our language model. Suppose, we are talking about a subject's gender, but we have the next input as a new subject, we would want to ignore that information about the gender of the previous subject. This is achieved using the forget gate as discussed above."
      ]
    },
    {
      "cell_type": "markdown",
      "metadata": {
        "id": "stoa9Dfs4NuP",
        "colab_type": "text"
      },
      "source": [
        "The next step is to decide what new information we are going to add to the cell state.\n",
        "\n",
        "This is done in 2 steps.\n",
        "First the sigmoid layer or the input gate layer is used to decide what values we want to update and then the tanh layer results in a vector of new values that can be added. So the state gets updated with the new values.\n"
      ]
    },
    {
      "cell_type": "markdown",
      "metadata": {
        "id": "8iqk--vD4T7Z",
        "colab_type": "text"
      },
      "source": [
        "![alt text](https://colah.github.io/posts/2015-08-Understanding-LSTMs/img/LSTM3-focus-i.png)"
      ]
    },
    {
      "cell_type": "markdown",
      "metadata": {
        "id": "gWXB3L0J4QwP",
        "colab_type": "text"
      },
      "source": [
        "\n",
        "So in our example, we want to add the information about the gender of the new subject which replaces the old value, that we want to forget.The cell state gets updated."
      ]
    },
    {
      "cell_type": "markdown",
      "metadata": {
        "id": "imWWQxJK4eIW",
        "colab_type": "text"
      },
      "source": [
        "Finally we want the output. In this case, the sigmoid layer decides what parts of the cell state we want to ouput. The cell state C(t) is also passes through tanh which outputs values between -1 and +1. This is multiplied by the output of the sigmoid layer and results in the required parts."
      ]
    },
    {
      "cell_type": "markdown",
      "metadata": {
        "id": "es8hSSHn4gsf",
        "colab_type": "text"
      },
      "source": [
        "![alt text](https://colah.github.io/posts/2015-08-Understanding-LSTMs/img/LSTM3-focus-C.png)"
      ]
    },
    {
      "cell_type": "markdown",
      "metadata": {
        "id": "lQDa5i9i5y8u",
        "colab_type": "text"
      },
      "source": [
        "Ct-1 - is the old cell state we are updating to new state Ct by multiplying with the function ft, then we add the new value i*Ct "
      ]
    },
    {
      "cell_type": "markdown",
      "metadata": {
        "id": "wX9bdYuThDIP",
        "colab_type": "text"
      },
      "source": [
        "\n",
        "So in our language example, as the network has seen the subject, it might want to output something relevant to what comes next. Say, if a verb is followed next, the network might output  if the subject is singular or plural, so that we will know what form of verb to be added.\n"
      ]
    },
    {
      "cell_type": "markdown",
      "metadata": {
        "id": "_zKCmjI06sy9",
        "colab_type": "text"
      },
      "source": [
        "![alt text](https://colah.github.io/posts/2015-08-Understanding-LSTMs/img/LSTM3-focus-o.png)"
      ]
    },
    {
      "cell_type": "markdown",
      "metadata": {
        "id": "R2IDO3Rn6rcQ",
        "colab_type": "text"
      },
      "source": [
        "\n",
        "There are many variants of LSTM, \n",
        "- One introduced by Gers & Schmidhuber (2000), is adding “peephole connections.”, which means that the gate layers can take a look at the cell state.\n",
        "- Another variation is to use coupled forget and input gates\n",
        "- Another important variant is the Gated Recurrent Unit, which we are going to dicuss in a little detail here."
      ]
    },
    {
      "cell_type": "markdown",
      "metadata": {
        "id": "VQ2YCLbW7GzQ",
        "colab_type": "text"
      },
      "source": [
        "# **GRUs**"
      ]
    },
    {
      "cell_type": "markdown",
      "metadata": {
        "id": "FhcDfEhl7JfN",
        "colab_type": "text"
      },
      "source": [
        "\n",
        "\n",
        "GRUs are imporved version of standard recurrent neural networks also defined as RNNs which have gated mechanism.\n",
        "*  It was introduced by Kyunghyun Cho in 2014. [Refer Here](https://arxiv.org/abs/1406.1078)\n",
        "*  The GRU is like a long short-term memory (LSTM) with forget gate but has fewer parameters than LSTM, as it lacks an output gate.\n",
        "*   The GRU is the newer generation of Recurrent Neural networks and is pretty similar to an LSTM. GRU’s got rid of the cell state and used the hidden state to transfer information. It also only has two gates, a reset gate and update gate.\n",
        "\n",
        "\n",
        "\n",
        "\n",
        "\n",
        "\n",
        "\n",
        "\n",
        "\n"
      ]
    },
    {
      "cell_type": "markdown",
      "metadata": {
        "id": "tl5pIpEL9Z00",
        "colab_type": "text"
      },
      "source": [
        "#### **Architecture of GRUs**"
      ]
    },
    {
      "cell_type": "markdown",
      "metadata": {
        "id": "oZ63eg41aKqI",
        "colab_type": "text"
      },
      "source": [
        "![alt text](https://miro.medium.com/max/1400/1*jhi5uOm9PvZfmxvfaCektw.png)"
      ]
    },
    {
      "cell_type": "markdown",
      "metadata": {
        "id": "yQKIUPTpauTT",
        "colab_type": "text"
      },
      "source": [
        "**Update Gate**: First, we have the Update gate. This gate decides what information should be thrown away or kept. Information from the previous hidden state and information from the current input is passed through the sigmoid function. Values come out between 0 and 1. The closer to 0 means to forget, and the closer to 1 means to keep."
      ]
    },
    {
      "cell_type": "markdown",
      "metadata": {
        "id": "LjNu1M1rbIAU",
        "colab_type": "text"
      },
      "source": [
        "**Reset Gate :**\n",
        "The reset gate is another gate is used to decide how much past information to forget."
      ]
    },
    {
      "cell_type": "markdown",
      "metadata": {
        "id": "Mw5mItzXFF9S",
        "colab_type": "text"
      },
      "source": [
        "# **LSTM Example**"
      ]
    },
    {
      "cell_type": "markdown",
      "metadata": {
        "id": "dCp-wmT04-sd",
        "colab_type": "text"
      },
      "source": [
        "Predicting how the stock market will perform is one of the most difficult things to do. There are so many factors involved in the prediction – physical factors vs. physhological, rational and irrational behaviour, etc. All these aspects combine to make share prices volatile and very difficult to predict with a high degree of accuracy."
      ]
    },
    {
      "cell_type": "markdown",
      "metadata": {
        "id": "V2mF9cT9LX5I",
        "colab_type": "text"
      },
      "source": [
        "Here we are trying to predict the stock price of Apple. Its pretty challangeing to predict since there is Brownian Motion which states that we couldnt predict future variations in stock prices using past data but its actually possible to predict trends in data "
      ]
    },
    {
      "cell_type": "markdown",
      "metadata": {
        "id": "xp97o8TvMWKR",
        "colab_type": "text"
      },
      "source": [
        "\n",
        "\n",
        "*   We will make an LSTM Model that will try to capture upward and downward trends in the selected stock price\n",
        "*   We are gonna implement a Stacked LSTM and dropout layers to avoid overfitting.\n",
        "\n"
      ]
    },
    {
      "cell_type": "markdown",
      "metadata": {
        "id": "nmjWPn3gMwhM",
        "colab_type": "text"
      },
      "source": [
        "We will try to predict the last 60 days using the data from 2000 to 2019."
      ]
    },
    {
      "cell_type": "markdown",
      "metadata": {
        "id": "bWKBDRcJsPW3",
        "colab_type": "text"
      },
      "source": [
        "## **Alpha-Vantage API**"
      ]
    },
    {
      "cell_type": "code",
      "metadata": {
        "id": "Um31HmrtFU6y",
        "colab_type": "code",
        "outputId": "6ecc2445-054f-457d-c036-66113de8dfff",
        "colab": {
          "base_uri": "https://localhost:8080/",
          "height": 139
        }
      },
      "source": [
        "!pip install alpha-vantage"
      ],
      "execution_count": 4,
      "outputs": [
        {
          "output_type": "stream",
          "text": [
            "Requirement already satisfied: alpha-vantage in /usr/local/lib/python3.6/dist-packages (2.1.3)\n",
            "Requirement already satisfied: requests in /usr/local/lib/python3.6/dist-packages (from alpha-vantage) (2.21.0)\n",
            "Requirement already satisfied: urllib3<1.25,>=1.21.1 in /usr/local/lib/python3.6/dist-packages (from requests->alpha-vantage) (1.24.3)\n",
            "Requirement already satisfied: chardet<3.1.0,>=3.0.2 in /usr/local/lib/python3.6/dist-packages (from requests->alpha-vantage) (3.0.4)\n",
            "Requirement already satisfied: certifi>=2017.4.17 in /usr/local/lib/python3.6/dist-packages (from requests->alpha-vantage) (2020.4.5.1)\n",
            "Requirement already satisfied: idna<2.9,>=2.5 in /usr/local/lib/python3.6/dist-packages (from requests->alpha-vantage) (2.8)\n"
          ],
          "name": "stdout"
        }
      ]
    },
    {
      "cell_type": "code",
      "metadata": {
        "id": "mdk2tg2OFNvi",
        "colab_type": "code",
        "colab": {
          "base_uri": "https://localhost:8080/",
          "height": 34
        },
        "outputId": "7a4dd4c3-ba1f-4ade-be39-a1f092d937a7"
      },
      "source": [
        "import numpy as np\n",
        "import pandas as pd\n",
        "import matplotlib.pyplot as plt\n",
        "from sklearn.preprocessing import MinMaxScaler\n",
        "from keras.models import Sequential\n",
        "from keras.layers import Dense,LSTM,Dropout,Bidirectional"
      ],
      "execution_count": 5,
      "outputs": [
        {
          "output_type": "stream",
          "text": [
            "Using TensorFlow backend.\n"
          ],
          "name": "stderr"
        }
      ]
    },
    {
      "cell_type": "code",
      "metadata": {
        "id": "-dXlcoCtFQXE",
        "colab_type": "code",
        "outputId": "2714789b-5876-406c-8e90-33a7d3b8343b",
        "colab": {
          "base_uri": "https://localhost:8080/",
          "height": 34
        }
      },
      "source": [
        "from alpha_vantage.timeseries import TimeSeries\n",
        "from pprint import pprint\n",
        "ts = TimeSeries(key='5W7LO5BBKDO63VCC', output_format='pandas',indexing_type='integer')\n",
        "dataset, meta_data = ts.get_daily(symbol='AAPL', outputsize='full')\n",
        "print(dataset.shape)"
      ],
      "execution_count": 6,
      "outputs": [
        {
          "output_type": "stream",
          "text": [
            "(5032, 6)\n"
          ],
          "name": "stdout"
        }
      ]
    },
    {
      "cell_type": "markdown",
      "metadata": {
        "id": "TcY0D2CZsYhg",
        "colab_type": "text"
      },
      "source": [
        "## **Data Preprocessing**"
      ]
    },
    {
      "cell_type": "code",
      "metadata": {
        "id": "jShR1Gd4FgFi",
        "colab_type": "code",
        "outputId": "c55d4f2b-38b5-4ba2-eac7-90cee3d79c79",
        "colab": {
          "base_uri": "https://localhost:8080/",
          "height": 235
        }
      },
      "source": [
        "dataset.head()"
      ],
      "execution_count": 7,
      "outputs": [
        {
          "output_type": "execute_result",
          "data": {
            "text/html": [
              "<div>\n",
              "<style scoped>\n",
              "    .dataframe tbody tr th:only-of-type {\n",
              "        vertical-align: middle;\n",
              "    }\n",
              "\n",
              "    .dataframe tbody tr th {\n",
              "        vertical-align: top;\n",
              "    }\n",
              "\n",
              "    .dataframe thead th {\n",
              "        text-align: right;\n",
              "    }\n",
              "</style>\n",
              "<table border=\"1\" class=\"dataframe\">\n",
              "  <thead>\n",
              "    <tr style=\"text-align: right;\">\n",
              "      <th></th>\n",
              "      <th>index</th>\n",
              "      <th>1. open</th>\n",
              "      <th>2. high</th>\n",
              "      <th>3. low</th>\n",
              "      <th>4. close</th>\n",
              "      <th>5. volume</th>\n",
              "    </tr>\n",
              "    <tr>\n",
              "      <th>index</th>\n",
              "      <th></th>\n",
              "      <th></th>\n",
              "      <th></th>\n",
              "      <th></th>\n",
              "      <th></th>\n",
              "      <th></th>\n",
              "    </tr>\n",
              "  </thead>\n",
              "  <tbody>\n",
              "    <tr>\n",
              "      <th>0</th>\n",
              "      <td>2020-04-17</td>\n",
              "      <td>284.69</td>\n",
              "      <td>286.9450</td>\n",
              "      <td>276.8600</td>\n",
              "      <td>282.80</td>\n",
              "      <td>53451248.0</td>\n",
              "    </tr>\n",
              "    <tr>\n",
              "      <th>1</th>\n",
              "      <td>2020-04-16</td>\n",
              "      <td>287.38</td>\n",
              "      <td>288.1975</td>\n",
              "      <td>282.3502</td>\n",
              "      <td>286.69</td>\n",
              "      <td>39281290.0</td>\n",
              "    </tr>\n",
              "    <tr>\n",
              "      <th>2</th>\n",
              "      <td>2020-04-15</td>\n",
              "      <td>282.40</td>\n",
              "      <td>286.3300</td>\n",
              "      <td>280.6300</td>\n",
              "      <td>284.43</td>\n",
              "      <td>32788641.0</td>\n",
              "    </tr>\n",
              "    <tr>\n",
              "      <th>3</th>\n",
              "      <td>2020-04-14</td>\n",
              "      <td>280.00</td>\n",
              "      <td>288.2500</td>\n",
              "      <td>278.0500</td>\n",
              "      <td>287.05</td>\n",
              "      <td>48748672.0</td>\n",
              "    </tr>\n",
              "    <tr>\n",
              "      <th>4</th>\n",
              "      <td>2020-04-13</td>\n",
              "      <td>268.31</td>\n",
              "      <td>273.7000</td>\n",
              "      <td>265.8300</td>\n",
              "      <td>273.25</td>\n",
              "      <td>32755731.0</td>\n",
              "    </tr>\n",
              "  </tbody>\n",
              "</table>\n",
              "</div>"
            ],
            "text/plain": [
              "            index  1. open   2. high    3. low  4. close   5. volume\n",
              "index                                                               \n",
              "0      2020-04-17   284.69  286.9450  276.8600    282.80  53451248.0\n",
              "1      2020-04-16   287.38  288.1975  282.3502    286.69  39281290.0\n",
              "2      2020-04-15   282.40  286.3300  280.6300    284.43  32788641.0\n",
              "3      2020-04-14   280.00  288.2500  278.0500    287.05  48748672.0\n",
              "4      2020-04-13   268.31  273.7000  265.8300    273.25  32755731.0"
            ]
          },
          "metadata": {
            "tags": []
          },
          "execution_count": 7
        }
      ]
    },
    {
      "cell_type": "markdown",
      "metadata": {
        "id": "sTlPEgArPKSU",
        "colab_type": "text"
      },
      "source": [
        "Lets sort the data in increasing order of date"
      ]
    },
    {
      "cell_type": "code",
      "metadata": {
        "id": "U9zsGEzIPIx5",
        "colab_type": "code",
        "colab": {}
      },
      "source": [
        "dataset = dataset.iloc[::-1]"
      ],
      "execution_count": 0,
      "outputs": []
    },
    {
      "cell_type": "code",
      "metadata": {
        "id": "NM1hp2meP0kC",
        "colab_type": "code",
        "colab": {}
      },
      "source": [
        "dataset = dataset.set_index(pd.Series(range(dataset.shape[0])))"
      ],
      "execution_count": 0,
      "outputs": []
    },
    {
      "cell_type": "code",
      "metadata": {
        "id": "XQurKi6zPc_l",
        "colab_type": "code",
        "outputId": "30609537-953a-4514-9b6b-d04b142cba43",
        "colab": {
          "base_uri": "https://localhost:8080/",
          "height": 204
        }
      },
      "source": [
        "dataset.head()"
      ],
      "execution_count": 10,
      "outputs": [
        {
          "output_type": "execute_result",
          "data": {
            "text/html": [
              "<div>\n",
              "<style scoped>\n",
              "    .dataframe tbody tr th:only-of-type {\n",
              "        vertical-align: middle;\n",
              "    }\n",
              "\n",
              "    .dataframe tbody tr th {\n",
              "        vertical-align: top;\n",
              "    }\n",
              "\n",
              "    .dataframe thead th {\n",
              "        text-align: right;\n",
              "    }\n",
              "</style>\n",
              "<table border=\"1\" class=\"dataframe\">\n",
              "  <thead>\n",
              "    <tr style=\"text-align: right;\">\n",
              "      <th></th>\n",
              "      <th>index</th>\n",
              "      <th>1. open</th>\n",
              "      <th>2. high</th>\n",
              "      <th>3. low</th>\n",
              "      <th>4. close</th>\n",
              "      <th>5. volume</th>\n",
              "    </tr>\n",
              "  </thead>\n",
              "  <tbody>\n",
              "    <tr>\n",
              "      <th>0</th>\n",
              "      <td>2000-04-17</td>\n",
              "      <td>109.50</td>\n",
              "      <td>123.94</td>\n",
              "      <td>109.06</td>\n",
              "      <td>123.87</td>\n",
              "      <td>3656800.0</td>\n",
              "    </tr>\n",
              "    <tr>\n",
              "      <th>1</th>\n",
              "      <td>2000-04-18</td>\n",
              "      <td>123.50</td>\n",
              "      <td>126.87</td>\n",
              "      <td>119.37</td>\n",
              "      <td>126.87</td>\n",
              "      <td>3490400.0</td>\n",
              "    </tr>\n",
              "    <tr>\n",
              "      <th>2</th>\n",
              "      <td>2000-04-19</td>\n",
              "      <td>126.19</td>\n",
              "      <td>130.25</td>\n",
              "      <td>119.75</td>\n",
              "      <td>121.12</td>\n",
              "      <td>4644200.0</td>\n",
              "    </tr>\n",
              "    <tr>\n",
              "      <th>3</th>\n",
              "      <td>2000-04-20</td>\n",
              "      <td>123.69</td>\n",
              "      <td>124.75</td>\n",
              "      <td>117.06</td>\n",
              "      <td>118.87</td>\n",
              "      <td>6447500.0</td>\n",
              "    </tr>\n",
              "    <tr>\n",
              "      <th>4</th>\n",
              "      <td>2000-04-24</td>\n",
              "      <td>115.00</td>\n",
              "      <td>120.50</td>\n",
              "      <td>114.75</td>\n",
              "      <td>120.50</td>\n",
              "      <td>3960900.0</td>\n",
              "    </tr>\n",
              "  </tbody>\n",
              "</table>\n",
              "</div>"
            ],
            "text/plain": [
              "        index  1. open  2. high  3. low  4. close  5. volume\n",
              "0  2000-04-17   109.50   123.94  109.06    123.87  3656800.0\n",
              "1  2000-04-18   123.50   126.87  119.37    126.87  3490400.0\n",
              "2  2000-04-19   126.19   130.25  119.75    121.12  4644200.0\n",
              "3  2000-04-20   123.69   124.75  117.06    118.87  6447500.0\n",
              "4  2000-04-24   115.00   120.50  114.75    120.50  3960900.0"
            ]
          },
          "metadata": {
            "tags": []
          },
          "execution_count": 10
        }
      ]
    },
    {
      "cell_type": "markdown",
      "metadata": {
        "id": "bqOtpnUnOe6a",
        "colab_type": "text"
      },
      "source": [
        "Lets us visualize the complete trend from 2000 to current day."
      ]
    },
    {
      "cell_type": "code",
      "metadata": {
        "id": "nNe1PEyAN9rL",
        "colab_type": "code",
        "outputId": "b3d7da89-70f3-4d7d-d123-88a69309bb5b",
        "colab": {
          "base_uri": "https://localhost:8080/",
          "height": 312
        }
      },
      "source": [
        "plt.figure(figsize=(25,8))\n",
        "plt.plot(dataset['1. open'],color='green')"
      ],
      "execution_count": 11,
      "outputs": [
        {
          "output_type": "execute_result",
          "data": {
            "text/plain": [
              "[<matplotlib.lines.Line2D at 0x7fbe9d481208>]"
            ]
          },
          "metadata": {
            "tags": []
          },
          "execution_count": 11
        },
        {
          "output_type": "display_data",
          "data": {
            "image/png": "[encoded data removed]",
            "text/plain": [
              "<Figure size 1800x576 with 1 Axes>"
            ]
          },
          "metadata": {
            "tags": [],
            "needs_background": "light"
          }
        }
      ]
    },
    {
      "cell_type": "markdown",
      "metadata": {
        "id": "kqiiW50zTLHk",
        "colab_type": "text"
      },
      "source": [
        "We are trying to predict the trend in last 60days, \n",
        "Please find below for the actual trend in last 60 days"
      ]
    },
    {
      "cell_type": "code",
      "metadata": {
        "id": "VlUv5oR-OqQh",
        "colab_type": "code",
        "outputId": "a8175d47-9f72-4244-c587-4ea844cee266",
        "colab": {
          "base_uri": "https://localhost:8080/",
          "height": 312
        }
      },
      "source": [
        "plt.figure(figsize=(25,8))\n",
        "plt.plot(dataset.iloc[-60:,1:2],color='red')"
      ],
      "execution_count": 12,
      "outputs": [
        {
          "output_type": "execute_result",
          "data": {
            "text/plain": [
              "[<matplotlib.lines.Line2D at 0x7fbe9d416b70>]"
            ]
          },
          "metadata": {
            "tags": []
          },
          "execution_count": 12
        },
        {
          "output_type": "display_data",
          "data": {
            "image/png": "[encoded data removed]",
            "text/plain": [
              "<Figure size 1800x576 with 1 Axes>"
            ]
          },
          "metadata": {
            "tags": [],
            "needs_background": "light"
          }
        }
      ]
    },
    {
      "cell_type": "code",
      "metadata": {
        "id": "HcdPIVjrFmOR",
        "colab_type": "code",
        "outputId": "d3ea7405-203c-4c6b-f6a1-c46a676ac8fd",
        "colab": {
          "base_uri": "https://localhost:8080/",
          "height": 204
        }
      },
      "source": [
        "dataset.head()"
      ],
      "execution_count": 13,
      "outputs": [
        {
          "output_type": "execute_result",
          "data": {
            "text/html": [
              "<div>\n",
              "<style scoped>\n",
              "    .dataframe tbody tr th:only-of-type {\n",
              "        vertical-align: middle;\n",
              "    }\n",
              "\n",
              "    .dataframe tbody tr th {\n",
              "        vertical-align: top;\n",
              "    }\n",
              "\n",
              "    .dataframe thead th {\n",
              "        text-align: right;\n",
              "    }\n",
              "</style>\n",
              "<table border=\"1\" class=\"dataframe\">\n",
              "  <thead>\n",
              "    <tr style=\"text-align: right;\">\n",
              "      <th></th>\n",
              "      <th>index</th>\n",
              "      <th>1. open</th>\n",
              "      <th>2. high</th>\n",
              "      <th>3. low</th>\n",
              "      <th>4. close</th>\n",
              "      <th>5. volume</th>\n",
              "    </tr>\n",
              "  </thead>\n",
              "  <tbody>\n",
              "    <tr>\n",
              "      <th>0</th>\n",
              "      <td>2000-04-17</td>\n",
              "      <td>109.50</td>\n",
              "      <td>123.94</td>\n",
              "      <td>109.06</td>\n",
              "      <td>123.87</td>\n",
              "      <td>3656800.0</td>\n",
              "    </tr>\n",
              "    <tr>\n",
              "      <th>1</th>\n",
              "      <td>2000-04-18</td>\n",
              "      <td>123.50</td>\n",
              "      <td>126.87</td>\n",
              "      <td>119.37</td>\n",
              "      <td>126.87</td>\n",
              "      <td>3490400.0</td>\n",
              "    </tr>\n",
              "    <tr>\n",
              "      <th>2</th>\n",
              "      <td>2000-04-19</td>\n",
              "      <td>126.19</td>\n",
              "      <td>130.25</td>\n",
              "      <td>119.75</td>\n",
              "      <td>121.12</td>\n",
              "      <td>4644200.0</td>\n",
              "    </tr>\n",
              "    <tr>\n",
              "      <th>3</th>\n",
              "      <td>2000-04-20</td>\n",
              "      <td>123.69</td>\n",
              "      <td>124.75</td>\n",
              "      <td>117.06</td>\n",
              "      <td>118.87</td>\n",
              "      <td>6447500.0</td>\n",
              "    </tr>\n",
              "    <tr>\n",
              "      <th>4</th>\n",
              "      <td>2000-04-24</td>\n",
              "      <td>115.00</td>\n",
              "      <td>120.50</td>\n",
              "      <td>114.75</td>\n",
              "      <td>120.50</td>\n",
              "      <td>3960900.0</td>\n",
              "    </tr>\n",
              "  </tbody>\n",
              "</table>\n",
              "</div>"
            ],
            "text/plain": [
              "        index  1. open  2. high  3. low  4. close  5. volume\n",
              "0  2000-04-17   109.50   123.94  109.06    123.87  3656800.0\n",
              "1  2000-04-18   123.50   126.87  119.37    126.87  3490400.0\n",
              "2  2000-04-19   126.19   130.25  119.75    121.12  4644200.0\n",
              "3  2000-04-20   123.69   124.75  117.06    118.87  6447500.0\n",
              "4  2000-04-24   115.00   120.50  114.75    120.50  3960900.0"
            ]
          },
          "metadata": {
            "tags": []
          },
          "execution_count": 13
        }
      ]
    },
    {
      "cell_type": "code",
      "metadata": {
        "id": "awbmITtwFqMG",
        "colab_type": "code",
        "colab": {}
      },
      "source": [
        "dataset_train = dataset.iloc[:4971,:]"
      ],
      "execution_count": 0,
      "outputs": []
    },
    {
      "cell_type": "code",
      "metadata": {
        "id": "oRaOIWLcFrWH",
        "colab_type": "code",
        "colab": {}
      },
      "source": [
        "dataset_test = dataset.iloc[-60:,:]"
      ],
      "execution_count": 0,
      "outputs": []
    },
    {
      "cell_type": "code",
      "metadata": {
        "id": "3t7Hk2XoFt5-",
        "colab_type": "code",
        "outputId": "519b193f-dcc5-4be1-8ff6-d6d780c2dffa",
        "colab": {
          "base_uri": "https://localhost:8080/",
          "height": 34
        }
      },
      "source": [
        "print(dataset_train.shape,dataset_test.shape)"
      ],
      "execution_count": 16,
      "outputs": [
        {
          "output_type": "stream",
          "text": [
            "(4971, 6) (60, 6)\n"
          ],
          "name": "stdout"
        }
      ]
    },
    {
      "cell_type": "markdown",
      "metadata": {
        "id": "Z6hwqtsFKfIq",
        "colab_type": "text"
      },
      "source": [
        "To create a numpy array of train values"
      ]
    },
    {
      "cell_type": "code",
      "metadata": {
        "id": "qgwxF8MuFydS",
        "colab_type": "code",
        "colab": {}
      },
      "source": [
        "train = dataset_train.iloc[:,1:2].values"
      ],
      "execution_count": 0,
      "outputs": []
    },
    {
      "cell_type": "markdown",
      "metadata": {
        "id": "DVCoVxN1Kri3",
        "colab_type": "text"
      },
      "source": [
        "We have a numpy array of one column"
      ]
    },
    {
      "cell_type": "code",
      "metadata": {
        "id": "pGWsi-KtF2tQ",
        "colab_type": "code",
        "outputId": "87264568-4888-4ed6-9ba1-83895bc98554",
        "colab": {
          "base_uri": "https://localhost:8080/",
          "height": 187
        }
      },
      "source": [
        "train[:10]"
      ],
      "execution_count": 18,
      "outputs": [
        {
          "output_type": "execute_result",
          "data": {
            "text/plain": [
              "array([[109.5 ],\n",
              "       [123.5 ],\n",
              "       [126.19],\n",
              "       [123.69],\n",
              "       [115.  ],\n",
              "       [122.12],\n",
              "       [126.62],\n",
              "       [117.19],\n",
              "       [127.12],\n",
              "       [124.87]])"
            ]
          },
          "metadata": {
            "tags": []
          },
          "execution_count": 18
        }
      ]
    },
    {
      "cell_type": "markdown",
      "metadata": {
        "id": "uwGfMz5WLaWh",
        "colab_type": "text"
      },
      "source": [
        "## **Feature Scaling**"
      ]
    },
    {
      "cell_type": "code",
      "metadata": {
        "id": "Ywf2pTYCF5oi",
        "colab_type": "code",
        "colab": {}
      },
      "source": [
        "scale = MinMaxScaler(feature_range=(0,1))"
      ],
      "execution_count": 0,
      "outputs": []
    },
    {
      "cell_type": "code",
      "metadata": {
        "id": "4CmVyQLjF6rF",
        "colab_type": "code",
        "colab": {}
      },
      "source": [
        "train_scaled = scale.fit_transform(train)"
      ],
      "execution_count": 0,
      "outputs": []
    },
    {
      "cell_type": "code",
      "metadata": {
        "id": "C7JYIEMYF9K3",
        "colab_type": "code",
        "outputId": "65f1a367-7054-4821-bbdd-c375b4ec25e6",
        "colab": {
          "base_uri": "https://localhost:8080/",
          "height": 187
        }
      },
      "source": [
        "train_scaled[:10]"
      ],
      "execution_count": 21,
      "outputs": [
        {
          "output_type": "execute_result",
          "data": {
            "text/plain": [
              "array([[0.13998724],\n",
              "       [0.16029416],\n",
              "       [0.16419599],\n",
              "       [0.16056975],\n",
              "       [0.14796496],\n",
              "       [0.15829248],\n",
              "       [0.1648197 ],\n",
              "       [0.15114154],\n",
              "       [0.16554495],\n",
              "       [0.16228134]])"
            ]
          },
          "metadata": {
            "tags": []
          },
          "execution_count": 21
        }
      ]
    },
    {
      "cell_type": "markdown",
      "metadata": {
        "id": "pDqrV-3SN_z2",
        "colab_type": "text"
      },
      "source": [
        "## **Creating a training data structure** "
      ]
    },
    {
      "cell_type": "markdown",
      "metadata": {
        "id": "wFqk5BmpQmca",
        "colab_type": "text"
      },
      "source": [
        "This means that model is going to take 120 stock prices before time T in which RNNs are going to learn and understand some correlations and based on its understanding its going to predict the next output"
      ]
    },
    {
      "cell_type": "markdown",
      "metadata": {
        "id": "M2AaSSIMRT4R",
        "colab_type": "text"
      },
      "source": [
        "We can try the above by considering different timestamps"
      ]
    },
    {
      "cell_type": "code",
      "metadata": {
        "id": "L-BMrun2Sgqq",
        "colab_type": "code",
        "colab": {}
      },
      "source": [
        "time_len = 120"
      ],
      "execution_count": 0,
      "outputs": []
    },
    {
      "cell_type": "code",
      "metadata": {
        "id": "NVoppuNWF_Zt",
        "colab_type": "code",
        "colab": {}
      },
      "source": [
        "X_train = []\n",
        "y_train = []\n",
        "for i in range(time_len,dataset_train.shape[0]):\n",
        "    X_train.append(train_scaled[i-time_len:i,0])\n",
        "    y_train.append(train_scaled[i,0])\n",
        "X_train,y_train = np.array(X_train),np.array(y_train) #converting to numpy arrays so that they can be accepted in futute to our RNNs"
      ],
      "execution_count": 0,
      "outputs": []
    },
    {
      "cell_type": "markdown",
      "metadata": {
        "id": "ipjsIXx_Rsh0",
        "colab_type": "text"
      },
      "source": [
        "X_train will contain the 120 previous stock prices for current financial day.\n",
        "\n",
        "y_train will contain will contain stock price for current financial day"
      ]
    },
    {
      "cell_type": "code",
      "metadata": {
        "id": "k_PxRE2yTlKx",
        "colab_type": "code",
        "outputId": "51d37dff-2477-44ff-c3e1-d8f29b4bd3b1",
        "colab": {
          "base_uri": "https://localhost:8080/",
          "height": 357
        }
      },
      "source": [
        "print(X_train[0],y_train[0])"
      ],
      "execution_count": 24,
      "outputs": [
        {
          "output_type": "stream",
          "text": [
            "[0.13998724 0.16029416 0.16419599 0.16056975 0.14796496 0.15829248\n",
            " 0.1648197  0.15114154 0.16554495 0.16228134 0.15993154 0.1536799\n",
            " 0.14813902 0.14188738 0.14374402 0.14116214 0.13209654 0.12819471\n",
            " 0.1349105  0.13789852 0.13276377 0.13145833 0.13055902 0.12511967\n",
            " 0.11714195 0.11242784 0.10617621 0.10952685 0.1088016  0.10825041\n",
            " 0.10716254 0.09973601 0.11714195 0.11650373 0.11456006 0.11695338\n",
            " 0.12275536 0.12149343 0.12094224 0.11342868 0.11850541 0.11351571\n",
            " 0.11677932 0.11251487 0.12403179 0.05440805 0.06202315 0.05916568\n",
            " 0.05730904 0.05916568 0.05848394 0.05812132 0.0577587  0.05677236\n",
            " 0.05839691 0.05730904 0.05743959 0.05961533 0.06383627 0.06547533\n",
            " 0.06601201 0.06402483 0.06564939 0.06601201 0.06121087 0.06093528\n",
            " 0.06000696 0.05739607 0.05413246 0.05345073 0.05368281 0.05698993\n",
            " 0.05246439 0.05413246 0.05223231 0.04724261 0.05291404 0.05060776\n",
            " 0.05069479 0.05097038 0.05078182 0.04909924 0.05018711 0.04969395\n",
            " 0.04915726 0.051333   0.05568449 0.05404543 0.05459662 0.05581503\n",
            " 0.06045662 0.06311102 0.06419889 0.0651127  0.06673726 0.06669374\n",
            " 0.0700879  0.07204607 0.07018943 0.06692582 0.07055206 0.0662876\n",
            " 0.06432944 0.06347364 0.06609904 0.06492414 0.0612979  0.06782513\n",
            " 0.06733196 0.06601201 0.05413246 0.05767167 0.05848394 0.05622117\n",
            " 0.05268196 0.02204752 0.01987178 0.01733341 0.01360564 0.0152447 ] 0.014069797801050159\n"
          ],
          "name": "stdout"
        }
      ]
    },
    {
      "cell_type": "markdown",
      "metadata": {
        "id": "0SDYKnF5TxUO",
        "colab_type": "text"
      },
      "source": [
        "We can see our dataframe with 120 previews of previous stock of the taken financial day"
      ]
    },
    {
      "cell_type": "markdown",
      "metadata": {
        "id": "lOpqqStPUlme",
        "colab_type": "text"
      },
      "source": [
        "We need to create the new dimensionality of the above mentioned new data structure, because that exactly is accepted by the future recurrent network. [Reference](https://keras.io/layers/recurrent/)"
      ]
    },
    {
      "cell_type": "code",
      "metadata": {
        "id": "xtuNmunDGDzv",
        "colab_type": "code",
        "colab": {}
      },
      "source": [
        "X_train = np.reshape(X_train,(X_train.shape[0],X_train.shape[1],1))"
      ],
      "execution_count": 0,
      "outputs": []
    },
    {
      "cell_type": "markdown",
      "metadata": {
        "id": "gt5GWmEXskWN",
        "colab_type": "text"
      },
      "source": [
        "## **Model**"
      ]
    },
    {
      "cell_type": "markdown",
      "metadata": {
        "id": "EBnHLU9oV2yq",
        "colab_type": "text"
      },
      "source": [
        "We will build our model below :"
      ]
    },
    {
      "cell_type": "markdown",
      "metadata": {
        "id": "uG3uiCMlY2lf",
        "colab_type": "text"
      },
      "source": [
        "Since capturing the trends of a stock price is complex, we need to have high number of neurons"
      ]
    },
    {
      "cell_type": "code",
      "metadata": {
        "id": "Hc_Ds3HjGG9J",
        "colab_type": "code",
        "colab": {}
      },
      "source": [
        "model = Sequential()\n",
        "model.add(LSTM(units=50,return_sequences=True,input_shape = (X_train.shape[1],1)))\n",
        "model.add(Dropout(0.2))\n",
        "model.add(LSTM(units=50,return_sequences=True))\n",
        "model.add(Dropout(0.2))\n",
        "model.add(LSTM(units=50,return_sequences=True))\n",
        "model.add(Dropout(0.2))\n",
        "model.add(LSTM(units=50))\n",
        "model.add(Dropout(0.2))\n",
        "model.add(Dense(units=1))"
      ],
      "execution_count": 0,
      "outputs": []
    },
    {
      "cell_type": "code",
      "metadata": {
        "id": "OV2JrBCKGUWq",
        "colab_type": "code",
        "outputId": "c24b7dd4-aa23-4307-e7d7-72b12dd7728b",
        "colab": {
          "base_uri": "https://localhost:8080/",
          "height": 459
        }
      },
      "source": [
        "model.summary()"
      ],
      "execution_count": 27,
      "outputs": [
        {
          "output_type": "stream",
          "text": [
            "Model: \"sequential_1\"\n",
            "_________________________________________________________________\n",
            "Layer (type)                 Output Shape              Param #   \n",
            "=================================================================\n",
            "lstm_1 (LSTM)                (None, 120, 50)           10400     \n",
            "_________________________________________________________________\n",
            "dropout_1 (Dropout)          (None, 120, 50)           0         \n",
            "_________________________________________________________________\n",
            "lstm_2 (LSTM)                (None, 120, 50)           20200     \n",
            "_________________________________________________________________\n",
            "dropout_2 (Dropout)          (None, 120, 50)           0         \n",
            "_________________________________________________________________\n",
            "lstm_3 (LSTM)                (None, 120, 50)           20200     \n",
            "_________________________________________________________________\n",
            "dropout_3 (Dropout)          (None, 120, 50)           0         \n",
            "_________________________________________________________________\n",
            "lstm_4 (LSTM)                (None, 50)                20200     \n",
            "_________________________________________________________________\n",
            "dropout_4 (Dropout)          (None, 50)                0         \n",
            "_________________________________________________________________\n",
            "dense_1 (Dense)              (None, 1)                 51        \n",
            "=================================================================\n",
            "Total params: 71,051\n",
            "Trainable params: 71,051\n",
            "Non-trainable params: 0\n",
            "_________________________________________________________________\n"
          ],
          "name": "stdout"
        }
      ]
    },
    {
      "cell_type": "code",
      "metadata": {
        "id": "Gfzd2Rx1GX_4",
        "colab_type": "code",
        "colab": {}
      },
      "source": [
        "model.compile(optimizer='RMSProp',loss='mean_squared_error')"
      ],
      "execution_count": 0,
      "outputs": []
    },
    {
      "cell_type": "markdown",
      "metadata": {
        "id": "KhrWgws5apDV",
        "colab_type": "text"
      },
      "source": [
        "RMSProp optimizer is preferred for RNNs [Reference](https://keras.io/optimizers/)"
      ]
    },
    {
      "cell_type": "code",
      "metadata": {
        "id": "bnQcwnvoGbZV",
        "colab_type": "code",
        "outputId": "0ffa2706-d783-49e1-8dc8-8ecca0465763",
        "colab": {
          "base_uri": "https://localhost:8080/",
          "height": 714
        }
      },
      "source": [
        "model.fit(X_train,y_train,epochs=20,batch_size=32)"
      ],
      "execution_count": 29,
      "outputs": [
        {
          "output_type": "stream",
          "text": [
            "Epoch 1/20\n",
            "4851/4851 [==============================] - 43s 9ms/step - loss: 0.0074\n",
            "Epoch 2/20\n",
            "4851/4851 [==============================] - 41s 9ms/step - loss: 0.0037\n",
            "Epoch 3/20\n",
            "4851/4851 [==============================] - 42s 9ms/step - loss: 0.0032\n",
            "Epoch 4/20\n",
            "4851/4851 [==============================] - 43s 9ms/step - loss: 0.0025\n",
            "Epoch 5/20\n",
            "4851/4851 [==============================] - 43s 9ms/step - loss: 0.0022\n",
            "Epoch 6/20\n",
            "4851/4851 [==============================] - 43s 9ms/step - loss: 0.0022\n",
            "Epoch 7/20\n",
            "4851/4851 [==============================] - 43s 9ms/step - loss: 0.0020\n",
            "Epoch 8/20\n",
            "4851/4851 [==============================] - 43s 9ms/step - loss: 0.0020\n",
            "Epoch 9/20\n",
            "4851/4851 [==============================] - 43s 9ms/step - loss: 0.0017\n",
            "Epoch 10/20\n",
            "4851/4851 [==============================] - 43s 9ms/step - loss: 0.0016\n",
            "Epoch 11/20\n",
            "4851/4851 [==============================] - 43s 9ms/step - loss: 0.0017\n",
            "Epoch 12/20\n",
            "4851/4851 [==============================] - 43s 9ms/step - loss: 0.0015\n",
            "Epoch 13/20\n",
            "4851/4851 [==============================] - 43s 9ms/step - loss: 0.0013\n",
            "Epoch 14/20\n",
            "4851/4851 [==============================] - 43s 9ms/step - loss: 0.0013\n",
            "Epoch 15/20\n",
            "4851/4851 [==============================] - 43s 9ms/step - loss: 0.0014\n",
            "Epoch 16/20\n",
            "4851/4851 [==============================] - 43s 9ms/step - loss: 0.0014\n",
            "Epoch 17/20\n",
            "4851/4851 [==============================] - 43s 9ms/step - loss: 0.0013\n",
            "Epoch 18/20\n",
            "4851/4851 [==============================] - 43s 9ms/step - loss: 0.0012\n",
            "Epoch 19/20\n",
            "4851/4851 [==============================] - 43s 9ms/step - loss: 0.0013\n",
            "Epoch 20/20\n",
            "4851/4851 [==============================] - 43s 9ms/step - loss: 0.0012\n"
          ],
          "name": "stdout"
        },
        {
          "output_type": "execute_result",
          "data": {
            "text/plain": [
              "<keras.callbacks.callbacks.History at 0x7fbe93f61518>"
            ]
          },
          "metadata": {
            "tags": []
          },
          "execution_count": 29
        }
      ]
    },
    {
      "cell_type": "markdown",
      "metadata": {
        "id": "XOVmDp-SndJQ",
        "colab_type": "text"
      },
      "source": [
        "Get the real stock price from testing dataset and convert it to numpy array"
      ]
    },
    {
      "cell_type": "markdown",
      "metadata": {
        "id": "mRokaL9IsvzV",
        "colab_type": "text"
      },
      "source": [
        "## **Creating a test data structure**"
      ]
    },
    {
      "cell_type": "code",
      "metadata": {
        "id": "qV7kjnjYGcwB",
        "colab_type": "code",
        "colab": {}
      },
      "source": [
        "real_stock_price = dataset_test.iloc[:,1:2].values"
      ],
      "execution_count": 0,
      "outputs": []
    },
    {
      "cell_type": "markdown",
      "metadata": {
        "id": "J-TX30YWoEA6",
        "colab_type": "text"
      },
      "source": [
        "We trained our model in such a way that it can predict the stock price at time T, based on 120 previous stock prices.\n",
        "\n",
        "Therefore to predict stock prices for last 60days, we will need the 120 previous stock prices of the 60 previous financial days."
      ]
    },
    {
      "cell_type": "code",
      "metadata": {
        "id": "hl_HIw5MGgHn",
        "colab_type": "code",
        "colab": {}
      },
      "source": [
        "dataset_total = pd.concat((dataset_train['1. open'],dataset_test['1. open']),axis=0)"
      ],
      "execution_count": 0,
      "outputs": []
    },
    {
      "cell_type": "code",
      "metadata": {
        "id": "-G9thpc5Gjpw",
        "colab_type": "code",
        "colab": {}
      },
      "source": [
        "inputs = dataset_total[len(dataset_total)-len(dataset_test)-120:].values"
      ],
      "execution_count": 0,
      "outputs": []
    },
    {
      "cell_type": "code",
      "metadata": {
        "id": "jk9G1xQSpgab",
        "colab_type": "code",
        "outputId": "ab27daa9-53f1-4266-f232-541db245fe9b",
        "colab": {
          "base_uri": "https://localhost:8080/",
          "height": 34
        }
      },
      "source": [
        "inputs.shape"
      ],
      "execution_count": 33,
      "outputs": [
        {
          "output_type": "execute_result",
          "data": {
            "text/plain": [
              "(180,)"
            ]
          },
          "metadata": {
            "tags": []
          },
          "execution_count": 33
        }
      ]
    },
    {
      "cell_type": "markdown",
      "metadata": {
        "id": "z9vniwzYpmsy",
        "colab_type": "text"
      },
      "source": [
        "As mentioned above we have to change the input shape"
      ]
    },
    {
      "cell_type": "code",
      "metadata": {
        "id": "LgaKZ_5-GnTw",
        "colab_type": "code",
        "colab": {}
      },
      "source": [
        "inputs = inputs.reshape(-1,1)"
      ],
      "execution_count": 0,
      "outputs": []
    },
    {
      "cell_type": "code",
      "metadata": {
        "id": "HL1AtRRBpkIs",
        "colab_type": "code",
        "outputId": "24015177-7ca8-40a1-a4b5-1e1dbf7797a1",
        "colab": {
          "base_uri": "https://localhost:8080/",
          "height": 34
        }
      },
      "source": [
        "inputs.shape"
      ],
      "execution_count": 35,
      "outputs": [
        {
          "output_type": "execute_result",
          "data": {
            "text/plain": [
              "(180, 1)"
            ]
          },
          "metadata": {
            "tags": []
          },
          "execution_count": 35
        }
      ]
    },
    {
      "cell_type": "markdown",
      "metadata": {
        "id": "7FjGD6HEqmaN",
        "colab_type": "text"
      },
      "source": [
        "As done before we are doing feature scaling for the this data too."
      ]
    },
    {
      "cell_type": "code",
      "metadata": {
        "id": "C8s-xaahGpAf",
        "colab_type": "code",
        "colab": {}
      },
      "source": [
        "inputs = scale.transform(inputs)"
      ],
      "execution_count": 0,
      "outputs": []
    },
    {
      "cell_type": "markdown",
      "metadata": {
        "id": "E2L1ayndqdcJ",
        "colab_type": "text"
      },
      "source": [
        "Creating X_test datastructure similar to X_train"
      ]
    },
    {
      "cell_type": "code",
      "metadata": {
        "id": "Zb0jlVZxGrAC",
        "colab_type": "code",
        "colab": {}
      },
      "source": [
        "X_test = []\n",
        "for i in range(120,120+60):\n",
        "    X_test.append(inputs[i-120:i,0])\n",
        "X_test = np.array(X_test)\n",
        "X_test = np.reshape(X_test,(X_test.shape[0],X_test.shape[1],1))"
      ],
      "execution_count": 0,
      "outputs": []
    },
    {
      "cell_type": "markdown",
      "metadata": {
        "id": "BYA5bPlZs3r8",
        "colab_type": "text"
      },
      "source": [
        "## **Prediction**"
      ]
    },
    {
      "cell_type": "code",
      "metadata": {
        "id": "a9NonPG6GttM",
        "colab_type": "code",
        "colab": {}
      },
      "source": [
        "predicted_stock_price = model.predict(X_test)\n",
        "predicted_stock_price = scale.inverse_transform(predicted_stock_price) #inversing the scaling"
      ],
      "execution_count": 0,
      "outputs": []
    },
    {
      "cell_type": "markdown",
      "metadata": {
        "id": "2PrNblCmq_Lo",
        "colab_type": "text"
      },
      "source": [
        "## **Visualizing the results**"
      ]
    },
    {
      "cell_type": "code",
      "metadata": {
        "id": "h0Sk6puxGvUL",
        "colab_type": "code",
        "outputId": "89ba6841-a66d-434f-d20e-d271ffba1063",
        "colab": {
          "base_uri": "https://localhost:8080/",
          "height": 494
        }
      },
      "source": [
        "plt.figure(figsize=(15,8))\n",
        "plt.plot(real_stock_price,color='red',label='Actual Stock Price')\n",
        "plt.plot(predicted_stock_price,color='blue',label='Predicted Stock Price')\n",
        "plt.title('Apple Stock Price Prediction',color='blue')\n",
        "plt.xlabel('Time')\n",
        "plt.ylabel('XYZ Stock Price')\n",
        "plt.legend()\n",
        "plt.show()"
      ],
      "execution_count": 39,
      "outputs": [
        {
          "output_type": "display_data",
          "data": {
            "image/png": "[encoded data removed]",
            "text/plain": [
              "<Figure size 1080x576 with 1 Axes>"
            ]
          },
          "metadata": {
            "tags": [],
            "needs_background": "light"
          }
        }
      ]
    },
    {
      "cell_type": "markdown",
      "metadata": {
        "id": "R0KWPmypr9KZ",
        "colab_type": "text"
      },
      "source": [
        "The RNN we built was a regressor. Indeed, we were dealing with Regression because we were trying to predict a continuous outcome (the Apple Stock Price). For Regression, the way to evaluate the model performance is with a metric called RMSE (Root Mean Squared Error). It is calculated as the root of the mean of the squared differences between the predictions and the real values.\n",
        "\n",
        "However for our specific Stock Price Prediction problem, evaluating the model with the RMSE does not make much sense, since we are more interested in the directions taken by our predictions, rather than the closeness of their values to the real stock price. We want to check if our predictions follow the same directions as the real stock price and we don’t really care whether our predictions are close the real stock price. The predictions could indeed be close but often taking the opposite direction from the real stock price."
      ]
    },
    {
      "cell_type": "markdown",
      "metadata": {
        "id": "7vTAuy2SMNoh",
        "colab_type": "text"
      },
      "source": [
        "Lets try to see the model for a Bidirectional LSTM"
      ]
    },
    {
      "cell_type": "code",
      "metadata": {
        "colab_type": "code",
        "id": "cxeqVdIVML0W",
        "colab": {}
      },
      "source": [
        "model = Sequential()\n",
        "model.add(Bidirectional(LSTM(units=50,return_sequences=True,input_shape = (X_train.shape[1],1))))\n",
        "model.add(Dropout(0.2))\n",
        "model.add(Bidirectional(LSTM(units=50,return_sequences=True)))\n",
        "model.add(Dropout(0.2))\n",
        "model.add(Bidirectional(LSTM(units=50,return_sequences=True)))\n",
        "model.add(Dropout(0.2))\n",
        "model.add(Bidirectional(LSTM(units=50)))\n",
        "model.add(Dropout(0.2))\n",
        "model.add(Dense(units=1))"
      ],
      "execution_count": 0,
      "outputs": []
    },
    {
      "cell_type": "code",
      "metadata": {
        "colab_type": "code",
        "id": "To-ayuEyML0b",
        "colab": {}
      },
      "source": [
        "model.compile(optimizer='RMSProp',loss='mean_squared_error')"
      ],
      "execution_count": 0,
      "outputs": []
    },
    {
      "cell_type": "markdown",
      "metadata": {
        "colab_type": "text",
        "id": "M3JhJhvcML0f"
      },
      "source": [
        "RMSProp optimizer is preferred for RNNs [Reference](https://keras.io/optimizers/)"
      ]
    },
    {
      "cell_type": "code",
      "metadata": {
        "colab_type": "code",
        "outputId": "6177c90e-49f7-4f8d-a61d-a8b5ca16968c",
        "id": "Tc_kBSo_ML0f",
        "colab": {
          "base_uri": "https://localhost:8080/",
          "height": 714
        }
      },
      "source": [
        "model.fit(X_train,y_train,epochs=20,batch_size=32)"
      ],
      "execution_count": 42,
      "outputs": [
        {
          "output_type": "stream",
          "text": [
            "Epoch 1/20\n",
            "4851/4851 [==============================] - 79s 16ms/step - loss: 0.0069\n",
            "Epoch 2/20\n",
            "4851/4851 [==============================] - 75s 16ms/step - loss: 0.0034\n",
            "Epoch 3/20\n",
            "4851/4851 [==============================] - 75s 16ms/step - loss: 0.0024\n",
            "Epoch 4/20\n",
            "4851/4851 [==============================] - 75s 15ms/step - loss: 0.0020\n",
            "Epoch 5/20\n",
            "4851/4851 [==============================] - 75s 16ms/step - loss: 0.0019\n",
            "Epoch 6/20\n",
            "4851/4851 [==============================] - 75s 16ms/step - loss: 0.0018\n",
            "Epoch 7/20\n",
            "4851/4851 [==============================] - 76s 16ms/step - loss: 0.0015\n",
            "Epoch 8/20\n",
            "4851/4851 [==============================] - 76s 16ms/step - loss: 0.0015\n",
            "Epoch 9/20\n",
            "4851/4851 [==============================] - 76s 16ms/step - loss: 0.0014\n",
            "Epoch 10/20\n",
            "4851/4851 [==============================] - 76s 16ms/step - loss: 0.0014\n",
            "Epoch 11/20\n",
            "4851/4851 [==============================] - 76s 16ms/step - loss: 0.0012\n",
            "Epoch 12/20\n",
            "4851/4851 [==============================] - 76s 16ms/step - loss: 0.0013\n",
            "Epoch 13/20\n",
            "4851/4851 [==============================] - 75s 15ms/step - loss: 0.0012\n",
            "Epoch 14/20\n",
            "4851/4851 [==============================] - 74s 15ms/step - loss: 0.0012\n",
            "Epoch 15/20\n",
            "4851/4851 [==============================] - 75s 15ms/step - loss: 0.0012\n",
            "Epoch 16/20\n",
            "4851/4851 [==============================] - 75s 15ms/step - loss: 0.0011\n",
            "Epoch 17/20\n",
            "4851/4851 [==============================] - 75s 15ms/step - loss: 0.0010\n",
            "Epoch 18/20\n",
            "4851/4851 [==============================] - 77s 16ms/step - loss: 0.0011\n",
            "Epoch 19/20\n",
            "4851/4851 [==============================] - 77s 16ms/step - loss: 9.6923e-04\n",
            "Epoch 20/20\n",
            "4851/4851 [==============================] - 77s 16ms/step - loss: 0.0010\n"
          ],
          "name": "stdout"
        },
        {
          "output_type": "execute_result",
          "data": {
            "text/plain": [
              "<keras.callbacks.callbacks.History at 0x7fbe93d65d68>"
            ]
          },
          "metadata": {
            "tags": []
          },
          "execution_count": 42
        }
      ]
    },
    {
      "cell_type": "code",
      "metadata": {
        "colab_type": "code",
        "outputId": "91232d33-0cb9-4f87-9c2a-ab6ae2689a47",
        "id": "IZnBfU-PML0i",
        "colab": {
          "base_uri": "https://localhost:8080/",
          "height": 459
        }
      },
      "source": [
        "model.summary()"
      ],
      "execution_count": 45,
      "outputs": [
        {
          "output_type": "stream",
          "text": [
            "Model: \"sequential_2\"\n",
            "_________________________________________________________________\n",
            "Layer (type)                 Output Shape              Param #   \n",
            "=================================================================\n",
            "bidirectional_1 (Bidirection (None, 120, 100)          20800     \n",
            "_________________________________________________________________\n",
            "dropout_5 (Dropout)          (None, 120, 100)          0         \n",
            "_________________________________________________________________\n",
            "bidirectional_2 (Bidirection (None, 120, 100)          60400     \n",
            "_________________________________________________________________\n",
            "dropout_6 (Dropout)          (None, 120, 100)          0         \n",
            "_________________________________________________________________\n",
            "bidirectional_3 (Bidirection (None, 120, 100)          60400     \n",
            "_________________________________________________________________\n",
            "dropout_7 (Dropout)          (None, 120, 100)          0         \n",
            "_________________________________________________________________\n",
            "bidirectional_4 (Bidirection (None, 100)               60400     \n",
            "_________________________________________________________________\n",
            "dropout_8 (Dropout)          (None, 100)               0         \n",
            "_________________________________________________________________\n",
            "dense_2 (Dense)              (None, 1)                 101       \n",
            "=================================================================\n",
            "Total params: 202,101\n",
            "Trainable params: 202,101\n",
            "Non-trainable params: 0\n",
            "_________________________________________________________________\n"
          ],
          "name": "stdout"
        }
      ]
    },
    {
      "cell_type": "markdown",
      "metadata": {
        "colab_type": "text",
        "id": "dcgHqElEML0l"
      },
      "source": [
        "Get the real stock price from testing dataset and convert it to numpy array"
      ]
    },
    {
      "cell_type": "markdown",
      "metadata": {
        "colab_type": "text",
        "id": "TEgj8eiOML0l"
      },
      "source": [
        "## **Creating a test data structure**"
      ]
    },
    {
      "cell_type": "code",
      "metadata": {
        "colab_type": "code",
        "id": "PZ3eE7ZXML0n",
        "colab": {}
      },
      "source": [
        "real_stock_price = dataset_test.iloc[:,1:2].values"
      ],
      "execution_count": 0,
      "outputs": []
    },
    {
      "cell_type": "markdown",
      "metadata": {
        "colab_type": "text",
        "id": "1JhHoM3PML0p"
      },
      "source": [
        "We trained our model in such a way that it can predict the stock price at time T, based on 120 previous stock prices.\n",
        "\n",
        "Therefore to predict stock prices for last 60days, we will need the 120 previous stock prices of the 60 previous financial days."
      ]
    },
    {
      "cell_type": "code",
      "metadata": {
        "colab_type": "code",
        "id": "RksybBnrML0p",
        "colab": {}
      },
      "source": [
        "dataset_total = pd.concat((dataset_train['1. open'],dataset_test['1. open']),axis=0)"
      ],
      "execution_count": 0,
      "outputs": []
    },
    {
      "cell_type": "code",
      "metadata": {
        "colab_type": "code",
        "id": "A1NH32-XML0s",
        "colab": {}
      },
      "source": [
        "inputs = dataset_total[len(dataset_total)-len(dataset_test)-120:].values"
      ],
      "execution_count": 0,
      "outputs": []
    },
    {
      "cell_type": "code",
      "metadata": {
        "colab_type": "code",
        "outputId": "24309dda-07fc-4eb9-d5c1-e72d881dd5e9",
        "id": "13zt4UHvML0u",
        "colab": {
          "base_uri": "https://localhost:8080/",
          "height": 34
        }
      },
      "source": [
        "inputs.shape"
      ],
      "execution_count": 49,
      "outputs": [
        {
          "output_type": "execute_result",
          "data": {
            "text/plain": [
              "(180,)"
            ]
          },
          "metadata": {
            "tags": []
          },
          "execution_count": 49
        }
      ]
    },
    {
      "cell_type": "markdown",
      "metadata": {
        "colab_type": "text",
        "id": "qIhva2aLML0w"
      },
      "source": [
        "As mentioned above we have to change the input shape"
      ]
    },
    {
      "cell_type": "code",
      "metadata": {
        "colab_type": "code",
        "id": "kCmboIP-ML0x",
        "colab": {}
      },
      "source": [
        "inputs = inputs.reshape(-1,1)"
      ],
      "execution_count": 0,
      "outputs": []
    },
    {
      "cell_type": "code",
      "metadata": {
        "colab_type": "code",
        "outputId": "162acd37-794f-468d-b98f-04759b5d237f",
        "id": "Yu3dfSRfML0z",
        "colab": {
          "base_uri": "https://localhost:8080/",
          "height": 34
        }
      },
      "source": [
        "inputs.shape"
      ],
      "execution_count": 51,
      "outputs": [
        {
          "output_type": "execute_result",
          "data": {
            "text/plain": [
              "(180, 1)"
            ]
          },
          "metadata": {
            "tags": []
          },
          "execution_count": 51
        }
      ]
    },
    {
      "cell_type": "markdown",
      "metadata": {
        "colab_type": "text",
        "id": "5fgRiCiAML03"
      },
      "source": [
        "As done before we are doing feature scaling for the this data too."
      ]
    },
    {
      "cell_type": "code",
      "metadata": {
        "colab_type": "code",
        "id": "1Xt_bLUGML03",
        "colab": {}
      },
      "source": [
        "inputs = scale.transform(inputs)"
      ],
      "execution_count": 0,
      "outputs": []
    },
    {
      "cell_type": "markdown",
      "metadata": {
        "colab_type": "text",
        "id": "i0t-jD9iML05"
      },
      "source": [
        "Creating X_test datastructure similar to X_train"
      ]
    },
    {
      "cell_type": "code",
      "metadata": {
        "colab_type": "code",
        "id": "izH-Iq8pML06",
        "colab": {}
      },
      "source": [
        "X_test = []\n",
        "for i in range(120,120+60):\n",
        "    X_test.append(inputs[i-120:i,0])\n",
        "X_test = np.array(X_test)\n",
        "X_test = np.reshape(X_test,(X_test.shape[0],X_test.shape[1],1))"
      ],
      "execution_count": 0,
      "outputs": []
    },
    {
      "cell_type": "markdown",
      "metadata": {
        "colab_type": "text",
        "id": "ASFw5MZxML08"
      },
      "source": [
        "## **Prediction**"
      ]
    },
    {
      "cell_type": "code",
      "metadata": {
        "colab_type": "code",
        "id": "UPXXmYjUML08",
        "colab": {}
      },
      "source": [
        "predicted_stock_price = model.predict(X_test)\n",
        "predicted_stock_price = scale.inverse_transform(predicted_stock_price) #inversing the scaling"
      ],
      "execution_count": 0,
      "outputs": []
    },
    {
      "cell_type": "markdown",
      "metadata": {
        "colab_type": "text",
        "id": "00FrORb6ML0-"
      },
      "source": [
        "## **Visualizing the results**"
      ]
    },
    {
      "cell_type": "code",
      "metadata": {
        "colab_type": "code",
        "outputId": "2f2d13c8-92a3-4b96-8857-120d06255d74",
        "id": "d4QRTFGrML0_",
        "colab": {
          "base_uri": "https://localhost:8080/",
          "height": 494
        }
      },
      "source": [
        "plt.figure(figsize=(15,8))\n",
        "plt.plot(real_stock_price,color='red',label='Actual Stock Price')\n",
        "plt.plot(predicted_stock_price,color='blue',label='Predicted Stock Price')\n",
        "plt.title('Apple Stock Price Prediction',color='blue')\n",
        "plt.xlabel('Time')\n",
        "plt.ylabel('XYZ Stock Price')\n",
        "plt.legend()\n",
        "plt.show()"
      ],
      "execution_count": 55,
      "outputs": [
        {
          "output_type": "display_data",
          "data": {
            "image/png": "[encoded data removed]",
            "text/plain": [
              "<Figure size 1080x576 with 1 Axes>"
            ]
          },
          "metadata": {
            "tags": [],
            "needs_background": "light"
          }
        }
      ]
    },
    {
      "cell_type": "markdown",
      "metadata": {
        "id": "JNLFFXqBaSxS",
        "colab_type": "text"
      },
      "source": [
        "# **References**"
      ]
    },
    {
      "cell_type": "markdown",
      "metadata": {
        "id": "QrchHtQoadfV",
        "colab_type": "text"
      },
      "source": [
        "https://towardsdatascience.com/illustrated-guide-to-lstms-and-gru-s-a-step-by-step-explanation-44e9eb85bf21"
      ]
    },
    {
      "cell_type": "markdown",
      "metadata": {
        "id": "dX9DA1DX6Ais",
        "colab_type": "text"
      },
      "source": [
        "https://towardsdatascience.com/introduction-to-rnns-sequence-to-sequence-language-translation-and-attention-fc43ef2cc3fd"
      ]
    },
    {
      "cell_type": "markdown",
      "metadata": {
        "id": "3kSGP5QuraKm",
        "colab_type": "text"
      },
      "source": [
        "https://blog.exxactcorp.com/5-types-lstm-recurrent-neural-network/"
      ]
    },
    {
      "cell_type": "markdown",
      "metadata": {
        "id": "B7A9_W6_rh9C",
        "colab_type": "text"
      },
      "source": [
        "https://stanford.edu/~shervine/teaching/cs-230/cheatsheet-recurrent-neural-networks"
      ]
    },
    {
      "cell_type": "code",
      "metadata": {
        "id": "OzLg570y3ZH5",
        "colab_type": "code",
        "colab": {}
      },
      "source": [
        ""
      ],
      "execution_count": 0,
      "outputs": []
    }
  ]
}