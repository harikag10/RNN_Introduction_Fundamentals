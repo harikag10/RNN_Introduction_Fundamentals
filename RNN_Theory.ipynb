{
  "nbformat": 4,
  "nbformat_minor": 0,
  "metadata": {
    "colab": {
      "name": "RNN_Theory.ipynb",
      "provenance": [],
      "include_colab_link": true
    },
    "kernelspec": {
      "name": "python3",
      "display_name": "Python 3"
    }
  },
  "cells": [
    {
      "cell_type": "markdown",
      "metadata": {
        "id": "view-in-github",
        "colab_type": "text"
      },
      "source": [
        "<a href=\"https://colab.research.google.com/github/ikyath/RNN_Introduction_Fundamentals/blob/master/RNN_Theory.ipynb\" target=\"_parent\"><img src=\"https://colab.research.google.com/assets/colab-badge.svg\" alt=\"Open In Colab\"/></a>"
      ]
    },
    {
      "cell_type": "markdown",
      "metadata": {
        "id": "kLyGaLAlk1Pa",
        "colab_type": "text"
      },
      "source": [
        "# Introduction\n"
      ]
    },
    {
      "cell_type": "markdown",
      "metadata": {
        "id": "hC5R0m-_qEiJ",
        "colab_type": "text"
      },
      "source": [
        "Time Series"
      ]
    },
    {
      "cell_type": "markdown",
      "metadata": {
        "id": "n6kY_z_wqQSJ",
        "colab_type": "text"
      },
      "source": [
        "A time series is a series of data points indexed (or listed or graphed) in time order. Most commonly, a time series is a sequence taken at successive equally spaced points in time. Thus it is a sequence of discrete-time data\n",
        "\n",
        "\n",
        "\n",
        "\n",
        "\n",
        "\n",
        "\n",
        "\n",
        "\n"
      ]
    },
    {
      "cell_type": "markdown",
      "metadata": {
        "id": "A-Z4S5NDrPXJ",
        "colab_type": "text"
      },
      "source": [
        "Example - Weather\n",
        "\n",
        "Weather is a dynamical System\n",
        "\n",
        "  See : Chaos Theory,Butterfly effect"
      ]
    },
    {
      "cell_type": "markdown",
      "metadata": {
        "id": "gy3xWZoosYZc",
        "colab_type": "text"
      },
      "source": [
        "![alt text](https://i.ytimg.com/vi/D6jln7pqn70/maxresdefault.jpg)"
      ]
    },
    {
      "cell_type": "markdown",
      "metadata": {
        "id": "q9C7s7VqsHhR",
        "colab_type": "text"
      },
      "source": [
        "This is that even if we have the exact deterministic equations to describe a weather system our forecast will still become more and more incorrect.\n",
        "\n",
        "The further into the future we try to predict that's pretty counterintuitive because you would think if you have the exact equation for something then you should be able to calculate all the future values precisely but due to the butterfly effect this is not actually true.\n",
        "\n",
        "As the saying goes a butterfly flapping its wings in Tokyo can cause a tornado in America.\n",
        "\n",
        "Small and decisions like numerical round off error and your computer will ultimately lead it to your weather forecast being completely wrong eventually.This is actually really relevant to us because when you think of time series and our own ends you automatically"
      ]
    },
    {
      "cell_type": "markdown",
      "metadata": {
        "id": "XyGEAFgxtB5m",
        "colab_type": "text"
      },
      "source": [
        "![alt text](https://media.graytvinc.com/images/810*455/lnk+wx1.jpg)\n",
        "\n",
        "\n",
        "\n",
        "\n",
        "\n",
        "\n",
        "\n",
        "\n",
        "\n",
        "\n",
        "\n",
        "\n",
        "\n",
        "\n",
        "\n",
        "\n",
        "\n",
        "\n",
        "\n",
        "\n"
      ]
    },
    {
      "cell_type": "markdown",
      "metadata": {
        "id": "Y07WWouiu4Xk",
        "colab_type": "text"
      },
      "source": [
        "Another type of Sequential data is Text but in machine learning we don't consider it as sequence"
      ]
    },
    {
      "cell_type": "markdown",
      "metadata": {
        "id": "Pcjzxwj50NbL",
        "colab_type": "text"
      },
      "source": [
        "Forecasting is about to predict the next values in a timeseries"
      ]
    },
    {
      "cell_type": "markdown",
      "metadata": {
        "id": "beh-APbe2nwp",
        "colab_type": "text"
      },
      "source": [
        "# RNNs"
      ]
    },
    {
      "cell_type": "markdown",
      "metadata": {
        "id": "nnRW4pVZ3LDL",
        "colab_type": "text"
      },
      "source": [
        "\n",
        "\n",
        "*  The brain consists of billion of neurons, without any single duration.\n",
        "*  A Decision made now is not only based only on what you hear/see now.\n",
        "*  We can think and reason based on past inputs.\n",
        "*  What happens if we add feedback loops and memory to neural network.\n",
        "\n",
        "\n",
        "\n",
        "\n",
        "\n",
        "\n",
        "\n"
      ]
    },
    {
      "cell_type": "markdown",
      "metadata": {
        "id": "GAxleSxI-SDT",
        "colab_type": "text"
      },
      "source": [
        "Traditional neural networks can’t do this, and it seems like a major shortcoming. For example, imagine you want to classify what kind of event is happening at every point in a movie. It’s unclear how a traditional neural network could use its reasoning about previous events in the film to inform later ones."
      ]
    },
    {
      "cell_type": "markdown",
      "metadata": {
        "id": "hBOl_mIlaqFa",
        "colab_type": "text"
      },
      "source": [
        "# LSTMs"
      ]
    },
    {
      "cell_type": "markdown",
      "metadata": {
        "id": "NvgS4pfmasRo",
        "colab_type": "text"
      },
      "source": [
        ""
      ]
    },
    {
      "cell_type": "markdown",
      "metadata": {
        "id": "w2NOIhB0asVC",
        "colab_type": "text"
      },
      "source": [
        ""
      ]
    },
    {
      "cell_type": "markdown",
      "metadata": {
        "id": "VQ2YCLbW7GzQ",
        "colab_type": "text"
      },
      "source": [
        "# GRUs"
      ]
    },
    {
      "cell_type": "markdown",
      "metadata": {
        "id": "FhcDfEhl7JfN",
        "colab_type": "text"
      },
      "source": [
        "\n",
        "\n",
        "GRUs are imporved version of standard recurrent neural networks also defined as RNNs which have gated mechanism.\n",
        "*  It was introduced by Kyunghyun Cho in 2014. [Refer Here](https://arxiv.org/abs/1406.1078)\n",
        "*  The GRU is like a long short-term memory (LSTM) with forget gate but has fewer parameters than LSTM, as it lacks an output gate.\n",
        "*   The GRU is the newer generation of Recurrent Neural networks and is pretty similar to an LSTM. GRU’s got rid of the cell state and used the hidden state to transfer information. It also only has two gates, a reset gate and update gate.\n",
        "\n",
        "\n",
        "\n",
        "\n",
        "\n",
        "\n",
        "\n",
        "\n",
        "\n"
      ]
    },
    {
      "cell_type": "markdown",
      "metadata": {
        "id": "tl5pIpEL9Z00",
        "colab_type": "text"
      },
      "source": [
        "#### Architecture of GRUs"
      ]
    },
    {
      "cell_type": "markdown",
      "metadata": {
        "id": "oZ63eg41aKqI",
        "colab_type": "text"
      },
      "source": [
        "![alt text](https://miro.medium.com/max/1400/1*jhi5uOm9PvZfmxvfaCektw.png)"
      ]
    },
    {
      "cell_type": "markdown",
      "metadata": {
        "id": "yQKIUPTpauTT",
        "colab_type": "text"
      },
      "source": [
        "Update Gate : First, we have the Update gate. This gate decides what information should be thrown away or kept. Information from the previous hidden state and information from the current input is passed through the sigmoid function. Values come out between 0 and 1. The closer to 0 means to forget, and the closer to 1 means to keep."
      ]
    },
    {
      "cell_type": "markdown",
      "metadata": {
        "id": "LjNu1M1rbIAU",
        "colab_type": "text"
      },
      "source": [
        "Reset Gate :\n",
        "The reset gate is another gate is used to decide how much past information to forget."
      ]
    },
    {
      "cell_type": "markdown",
      "metadata": {
        "id": "E_GPBDENOoD1",
        "colab_type": "text"
      },
      "source": [
        "#Stocks predictions using LSTM\n"
      ]
    },
    {
      "cell_type": "markdown",
      "metadata": {
        "id": "ySMPAsVeO6i-",
        "colab_type": "text"
      },
      "source": [
        "We will import stocks history data using AlphaVantage API"
      ]
    },
    {
      "cell_type": "markdown",
      "metadata": {
        "id": "eEfp4tikPDkt",
        "colab_type": "text"
      },
      "source": [
        "We will import all necessary libraries"
      ]
    },
    {
      "cell_type": "code",
      "metadata": {
        "id": "7bD8cH4QO5wa",
        "colab_type": "code",
        "colab": {}
      },
      "source": [
        "import numpy as np\n",
        "import pandas as pd\n",
        "import matplotlib.pyplot as plt\n",
        "from sklearn.preprocessing import MinMaxScaler\n",
        "from keras.models import Sequential\n",
        "from keras.layers import Dense,LSTM,Dropout"
      ],
      "execution_count": 0,
      "outputs": []
    },
    {
      "cell_type": "markdown",
      "metadata": {
        "id": "Qh-XldJJPZxL",
        "colab_type": "text"
      },
      "source": [
        "We will use AlphaVanatage API for getting complete daily stocks of aaple"
      ]
    },
    {
      "cell_type": "code",
      "metadata": {
        "id": "u81DU6XcPmtx",
        "colab_type": "code",
        "colab": {}
      },
      "source": [
        "#!pip install alpha-vantage - #Please run this to install alpha vantage"
      ],
      "execution_count": 0,
      "outputs": []
    },
    {
      "cell_type": "code",
      "metadata": {
        "id": "gFQrf0AUPZP_",
        "colab_type": "code",
        "outputId": "21415906-48d1-436d-d776-3490c2de0170",
        "colab": {
          "base_uri": "https://localhost:8080/",
          "height": 34
        }
      },
      "source": [
        "from alpha_vantage.timeseries import TimeSeries\n",
        "from pprint import pprint\n",
        "ts = TimeSeries(key='5W7LO5BBKDO63VCC', output_format='pandas',indexing_type='integer')\n",
        "data_set, meta_data = ts.get_daily(symbol='AAPL', outputsize='full')\n",
        "print(data_set.shape)"
      ],
      "execution_count": 111,
      "outputs": [
        {
          "output_type": "stream",
          "text": [
            "(5031, 6)\n"
          ],
          "name": "stdout"
        }
      ]
    },
    {
      "cell_type": "code",
      "metadata": {
        "id": "X5xRqTMqQXnD",
        "colab_type": "code",
        "outputId": "7ebbfde4-34bb-4319-b32b-68b9c615a7ef",
        "colab": {
          "base_uri": "https://localhost:8080/",
          "height": 235
        }
      },
      "source": [
        "data_set.tail()"
      ],
      "execution_count": 112,
      "outputs": [
        {
          "output_type": "execute_result",
          "data": {
            "text/html": [
              "<div>\n",
              "<style scoped>\n",
              "    .dataframe tbody tr th:only-of-type {\n",
              "        vertical-align: middle;\n",
              "    }\n",
              "\n",
              "    .dataframe tbody tr th {\n",
              "        vertical-align: top;\n",
              "    }\n",
              "\n",
              "    .dataframe thead th {\n",
              "        text-align: right;\n",
              "    }\n",
              "</style>\n",
              "<table border=\"1\" class=\"dataframe\">\n",
              "  <thead>\n",
              "    <tr style=\"text-align: right;\">\n",
              "      <th></th>\n",
              "      <th>index</th>\n",
              "      <th>1. open</th>\n",
              "      <th>2. high</th>\n",
              "      <th>3. low</th>\n",
              "      <th>4. close</th>\n",
              "      <th>5. volume</th>\n",
              "    </tr>\n",
              "    <tr>\n",
              "      <th>index</th>\n",
              "      <th></th>\n",
              "      <th></th>\n",
              "      <th></th>\n",
              "      <th></th>\n",
              "      <th></th>\n",
              "      <th></th>\n",
              "    </tr>\n",
              "  </thead>\n",
              "  <tbody>\n",
              "    <tr>\n",
              "      <th>5026</th>\n",
              "      <td>2000-04-19</td>\n",
              "      <td>126.19</td>\n",
              "      <td>130.25</td>\n",
              "      <td>119.75</td>\n",
              "      <td>121.12</td>\n",
              "      <td>4644200.0</td>\n",
              "    </tr>\n",
              "    <tr>\n",
              "      <th>5027</th>\n",
              "      <td>2000-04-18</td>\n",
              "      <td>123.50</td>\n",
              "      <td>126.87</td>\n",
              "      <td>119.37</td>\n",
              "      <td>126.87</td>\n",
              "      <td>3490400.0</td>\n",
              "    </tr>\n",
              "    <tr>\n",
              "      <th>5028</th>\n",
              "      <td>2000-04-17</td>\n",
              "      <td>109.50</td>\n",
              "      <td>123.94</td>\n",
              "      <td>109.06</td>\n",
              "      <td>123.87</td>\n",
              "      <td>3656800.0</td>\n",
              "    </tr>\n",
              "    <tr>\n",
              "      <th>5029</th>\n",
              "      <td>2000-04-14</td>\n",
              "      <td>109.31</td>\n",
              "      <td>118.00</td>\n",
              "      <td>109.00</td>\n",
              "      <td>111.87</td>\n",
              "      <td>5960900.0</td>\n",
              "    </tr>\n",
              "    <tr>\n",
              "      <th>5030</th>\n",
              "      <td>2000-04-13</td>\n",
              "      <td>111.50</td>\n",
              "      <td>120.00</td>\n",
              "      <td>108.50</td>\n",
              "      <td>113.81</td>\n",
              "      <td>4730600.0</td>\n",
              "    </tr>\n",
              "  </tbody>\n",
              "</table>\n",
              "</div>"
            ],
            "text/plain": [
              "            index  1. open  2. high  3. low  4. close  5. volume\n",
              "index                                                           \n",
              "5026   2000-04-19   126.19   130.25  119.75    121.12  4644200.0\n",
              "5027   2000-04-18   123.50   126.87  119.37    126.87  3490400.0\n",
              "5028   2000-04-17   109.50   123.94  109.06    123.87  3656800.0\n",
              "5029   2000-04-14   109.31   118.00  109.00    111.87  5960900.0\n",
              "5030   2000-04-13   111.50   120.00  108.50    113.81  4730600.0"
            ]
          },
          "metadata": {
            "tags": []
          },
          "execution_count": 112
        }
      ]
    },
    {
      "cell_type": "markdown",
      "metadata": {
        "id": "8kSFfIZbQGD2",
        "colab_type": "text"
      },
      "source": [
        "##### Lets Visualize the Apple stocks data"
      ]
    },
    {
      "cell_type": "code",
      "metadata": {
        "id": "dQ3PeK16QEgM",
        "colab_type": "code",
        "outputId": "86487ccc-27e9-4bea-e540-d40a34b44183",
        "colab": {
          "base_uri": "https://localhost:8080/",
          "height": 483
        }
      },
      "source": [
        "plt.figure(figsize=(25,8))\n",
        "plt.plot(data_set['1. open'])\n",
        "plt.show()"
      ],
      "execution_count": 113,
      "outputs": [
        {
          "output_type": "display_data",
          "data": {
            "image/png": "[encoded data removed]",
            "text/plain": [
              "<Figure size 1800x576 with 1 Axes>"
            ]
          },
          "metadata": {
            "tags": [],
            "needs_background": "light"
          }
        }
      ]
    },
    {
      "cell_type": "markdown",
      "metadata": {
        "id": "snfPhlwEQxJh",
        "colab_type": "text"
      },
      "source": [
        "Above is the complete apple stocks data from 2000 to 2019 "
      ]
    },
    {
      "cell_type": "markdown",
      "metadata": {
        "id": "tbYbX7EmRmpX",
        "colab_type": "text"
      },
      "source": [
        "Lets change the order of data in increasing order of date"
      ]
    },
    {
      "cell_type": "code",
      "metadata": {
        "id": "LZzNBUDmRgs0",
        "colab_type": "code",
        "colab": {}
      },
      "source": [
        "dataset_sorted = data_set.iloc[::-1]"
      ],
      "execution_count": 0,
      "outputs": []
    },
    {
      "cell_type": "code",
      "metadata": {
        "id": "NsK-lUfwR1ON",
        "colab_type": "code",
        "outputId": "6ec972e6-d4c3-4606-ba62-65b4a7ba890a",
        "colab": {
          "base_uri": "https://localhost:8080/",
          "height": 235
        }
      },
      "source": [
        "dataset_sorted.head()"
      ],
      "execution_count": 115,
      "outputs": [
        {
          "output_type": "execute_result",
          "data": {
            "text/html": [
              "<div>\n",
              "<style scoped>\n",
              "    .dataframe tbody tr th:only-of-type {\n",
              "        vertical-align: middle;\n",
              "    }\n",
              "\n",
              "    .dataframe tbody tr th {\n",
              "        vertical-align: top;\n",
              "    }\n",
              "\n",
              "    .dataframe thead th {\n",
              "        text-align: right;\n",
              "    }\n",
              "</style>\n",
              "<table border=\"1\" class=\"dataframe\">\n",
              "  <thead>\n",
              "    <tr style=\"text-align: right;\">\n",
              "      <th></th>\n",
              "      <th>index</th>\n",
              "      <th>1. open</th>\n",
              "      <th>2. high</th>\n",
              "      <th>3. low</th>\n",
              "      <th>4. close</th>\n",
              "      <th>5. volume</th>\n",
              "    </tr>\n",
              "    <tr>\n",
              "      <th>index</th>\n",
              "      <th></th>\n",
              "      <th></th>\n",
              "      <th></th>\n",
              "      <th></th>\n",
              "      <th></th>\n",
              "      <th></th>\n",
              "    </tr>\n",
              "  </thead>\n",
              "  <tbody>\n",
              "    <tr>\n",
              "      <th>5030</th>\n",
              "      <td>2000-04-13</td>\n",
              "      <td>111.50</td>\n",
              "      <td>120.00</td>\n",
              "      <td>108.50</td>\n",
              "      <td>113.81</td>\n",
              "      <td>4730600.0</td>\n",
              "    </tr>\n",
              "    <tr>\n",
              "      <th>5029</th>\n",
              "      <td>2000-04-14</td>\n",
              "      <td>109.31</td>\n",
              "      <td>118.00</td>\n",
              "      <td>109.00</td>\n",
              "      <td>111.87</td>\n",
              "      <td>5960900.0</td>\n",
              "    </tr>\n",
              "    <tr>\n",
              "      <th>5028</th>\n",
              "      <td>2000-04-17</td>\n",
              "      <td>109.50</td>\n",
              "      <td>123.94</td>\n",
              "      <td>109.06</td>\n",
              "      <td>123.87</td>\n",
              "      <td>3656800.0</td>\n",
              "    </tr>\n",
              "    <tr>\n",
              "      <th>5027</th>\n",
              "      <td>2000-04-18</td>\n",
              "      <td>123.50</td>\n",
              "      <td>126.87</td>\n",
              "      <td>119.37</td>\n",
              "      <td>126.87</td>\n",
              "      <td>3490400.0</td>\n",
              "    </tr>\n",
              "    <tr>\n",
              "      <th>5026</th>\n",
              "      <td>2000-04-19</td>\n",
              "      <td>126.19</td>\n",
              "      <td>130.25</td>\n",
              "      <td>119.75</td>\n",
              "      <td>121.12</td>\n",
              "      <td>4644200.0</td>\n",
              "    </tr>\n",
              "  </tbody>\n",
              "</table>\n",
              "</div>"
            ],
            "text/plain": [
              "            index  1. open  2. high  3. low  4. close  5. volume\n",
              "index                                                           \n",
              "5030   2000-04-13   111.50   120.00  108.50    113.81  4730600.0\n",
              "5029   2000-04-14   109.31   118.00  109.00    111.87  5960900.0\n",
              "5028   2000-04-17   109.50   123.94  109.06    123.87  3656800.0\n",
              "5027   2000-04-18   123.50   126.87  119.37    126.87  3490400.0\n",
              "5026   2000-04-19   126.19   130.25  119.75    121.12  4644200.0"
            ]
          },
          "metadata": {
            "tags": []
          },
          "execution_count": 115
        }
      ]
    },
    {
      "cell_type": "code",
      "metadata": {
        "id": "vkrbBcA_R6QF",
        "colab_type": "code",
        "colab": {}
      },
      "source": [
        "#Lets split into train and test dataset"
      ],
      "execution_count": 0,
      "outputs": []
    },
    {
      "cell_type": "code",
      "metadata": {
        "id": "xCmG2lqTR4KP",
        "colab_type": "code",
        "colab": {}
      },
      "source": [
        "dataset_train = dataset_sorted.iloc[:4971,:]"
      ],
      "execution_count": 0,
      "outputs": []
    },
    {
      "cell_type": "code",
      "metadata": {
        "id": "HYHbhcMDSE2v",
        "colab_type": "code",
        "outputId": "3c077362-62c4-4c0d-c3c2-99ebee28b80b",
        "colab": {
          "base_uri": "https://localhost:8080/",
          "height": 34
        }
      },
      "source": [
        "dataset_train.shape"
      ],
      "execution_count": 118,
      "outputs": [
        {
          "output_type": "execute_result",
          "data": {
            "text/plain": [
              "(4971, 6)"
            ]
          },
          "metadata": {
            "tags": []
          },
          "execution_count": 118
        }
      ]
    },
    {
      "cell_type": "code",
      "metadata": {
        "id": "eTnXIW_GSBAD",
        "colab_type": "code",
        "colab": {}
      },
      "source": [
        "dataset_test = dataset_sorted.iloc[-60:,:]"
      ],
      "execution_count": 0,
      "outputs": []
    },
    {
      "cell_type": "code",
      "metadata": {
        "id": "rpUG1doBSGfZ",
        "colab_type": "code",
        "outputId": "8d73c59d-07a0-437a-c8f4-f293751bea44",
        "colab": {
          "base_uri": "https://localhost:8080/",
          "height": 34
        }
      },
      "source": [
        "dataset_test.shape"
      ],
      "execution_count": 120,
      "outputs": [
        {
          "output_type": "execute_result",
          "data": {
            "text/plain": [
              "(60, 6)"
            ]
          },
          "metadata": {
            "tags": []
          },
          "execution_count": 120
        }
      ]
    },
    {
      "cell_type": "code",
      "metadata": {
        "id": "3ErtqJQmSM3R",
        "colab_type": "code",
        "colab": {}
      },
      "source": [
        "train = dataset_train.iloc[:,1:2].values #Lets seperate open column and converting to numpy array"
      ],
      "execution_count": 0,
      "outputs": []
    },
    {
      "cell_type": "code",
      "metadata": {
        "id": "qasfQL4VSVoV",
        "colab_type": "code",
        "outputId": "b46c4e5e-5956-49e2-8f8c-85aa4441c2ff",
        "colab": {
          "base_uri": "https://localhost:8080/",
          "height": 187
        }
      },
      "source": [
        "train[:10]"
      ],
      "execution_count": 122,
      "outputs": [
        {
          "output_type": "execute_result",
          "data": {
            "text/plain": [
              "array([[111.5 ],\n",
              "       [109.31],\n",
              "       [109.5 ],\n",
              "       [123.5 ],\n",
              "       [126.19],\n",
              "       [123.69],\n",
              "       [115.  ],\n",
              "       [122.12],\n",
              "       [126.62],\n",
              "       [117.19]])"
            ]
          },
          "metadata": {
            "tags": []
          },
          "execution_count": 122
        }
      ]
    },
    {
      "cell_type": "code",
      "metadata": {
        "id": "1x3WmtJeSZAQ",
        "colab_type": "code",
        "outputId": "63212409-f0a1-42c4-fdcc-8a2548a95319",
        "colab": {
          "base_uri": "https://localhost:8080/",
          "height": 34
        }
      },
      "source": [
        "train.shape"
      ],
      "execution_count": 123,
      "outputs": [
        {
          "output_type": "execute_result",
          "data": {
            "text/plain": [
              "(4971, 1)"
            ]
          },
          "metadata": {
            "tags": []
          },
          "execution_count": 123
        }
      ]
    },
    {
      "cell_type": "markdown",
      "metadata": {
        "id": "aoUGMQMnSgXA",
        "colab_type": "text"
      },
      "source": [
        "###### Normalization"
      ]
    },
    {
      "cell_type": "code",
      "metadata": {
        "id": "HmV9CY9nSbBI",
        "colab_type": "code",
        "colab": {}
      },
      "source": [
        "scale = MinMaxScaler(feature_range=(0,1))"
      ],
      "execution_count": 0,
      "outputs": []
    },
    {
      "cell_type": "code",
      "metadata": {
        "id": "2vCKWZagSk7q",
        "colab_type": "code",
        "colab": {}
      },
      "source": [
        "train_scaled = scale.fit_transform(train)"
      ],
      "execution_count": 0,
      "outputs": []
    },
    {
      "cell_type": "code",
      "metadata": {
        "id": "xJ1XTtXdSoQ7",
        "colab_type": "code",
        "outputId": "8f4bae9b-1861-42ed-cbd9-00d5871662e6",
        "colab": {
          "base_uri": "https://localhost:8080/",
          "height": 187
        }
      },
      "source": [
        "train_scaled[:10]"
      ],
      "execution_count": 126,
      "outputs": [
        {
          "output_type": "execute_result",
          "data": {
            "text/plain": [
              "array([[0.14288822],\n",
              "       [0.13971164],\n",
              "       [0.13998724],\n",
              "       [0.16029416],\n",
              "       [0.16419599],\n",
              "       [0.16056975],\n",
              "       [0.14796496],\n",
              "       [0.15829248],\n",
              "       [0.1648197 ],\n",
              "       [0.15114154]])"
            ]
          },
          "metadata": {
            "tags": []
          },
          "execution_count": 126
        }
      ]
    },
    {
      "cell_type": "markdown",
      "metadata": {
        "id": "5S0h_C96SucQ",
        "colab_type": "text"
      },
      "source": [
        "Creating a datastructure with 120 timestamps"
      ]
    },
    {
      "cell_type": "code",
      "metadata": {
        "id": "Hatcu_6ZSqmB",
        "colab_type": "code",
        "colab": {}
      },
      "source": [
        "X_train = []\n",
        "y_train = []\n",
        "for i in range(120,4971):\n",
        "    X_train.append(train_scaled[i-120:i,0])\n",
        "    y_train.append(train_scaled[i,0])\n",
        "X_train,y_train = np.array(X_train),np.array(y_train)"
      ],
      "execution_count": 0,
      "outputs": []
    },
    {
      "cell_type": "code",
      "metadata": {
        "id": "_2ZBZ5_VS3gB",
        "colab_type": "code",
        "colab": {}
      },
      "source": [
        "X_train = np.reshape(X_train,(X_train.shape[0],X_train.shape[1],1))"
      ],
      "execution_count": 0,
      "outputs": []
    },
    {
      "cell_type": "markdown",
      "metadata": {
        "id": "k6O01y6HTJYI",
        "colab_type": "text"
      },
      "source": [
        "LSTM Model"
      ]
    },
    {
      "cell_type": "code",
      "metadata": {
        "id": "pM1WMUKqS485",
        "colab_type": "code",
        "colab": {}
      },
      "source": [
        "regressor = Sequential()\n",
        "regressor.add(LSTM(units=50,return_sequences=True,input_shape = (X_train.shape[1],1)))\n",
        "regressor.add(Dropout(0.2))\n",
        "regressor.add(LSTM(units=50,return_sequences=True))\n",
        "regressor.add(Dropout(0.2))\n",
        "regressor.add(LSTM(units=50,return_sequences=True))\n",
        "regressor.add(Dropout(0.2))\n",
        "regressor.add(LSTM(units=50))\n",
        "regressor.add(Dropout(0.2))\n",
        "regressor.add(Dense(units=1))"
      ],
      "execution_count": 0,
      "outputs": []
    },
    {
      "cell_type": "code",
      "metadata": {
        "id": "OmUrPpwGTNBn",
        "colab_type": "code",
        "outputId": "35fd2861-59e1-4ffa-a79e-1b40f02de76e",
        "colab": {
          "base_uri": "https://localhost:8080/",
          "height": 459
        }
      },
      "source": [
        "regressor.summary()"
      ],
      "execution_count": 130,
      "outputs": [
        {
          "output_type": "stream",
          "text": [
            "Model: \"sequential_4\"\n",
            "_________________________________________________________________\n",
            "Layer (type)                 Output Shape              Param #   \n",
            "=================================================================\n",
            "lstm_13 (LSTM)               (None, 120, 50)           10400     \n",
            "_________________________________________________________________\n",
            "dropout_13 (Dropout)         (None, 120, 50)           0         \n",
            "_________________________________________________________________\n",
            "lstm_14 (LSTM)               (None, 120, 50)           20200     \n",
            "_________________________________________________________________\n",
            "dropout_14 (Dropout)         (None, 120, 50)           0         \n",
            "_________________________________________________________________\n",
            "lstm_15 (LSTM)               (None, 120, 50)           20200     \n",
            "_________________________________________________________________\n",
            "dropout_15 (Dropout)         (None, 120, 50)           0         \n",
            "_________________________________________________________________\n",
            "lstm_16 (LSTM)               (None, 50)                20200     \n",
            "_________________________________________________________________\n",
            "dropout_16 (Dropout)         (None, 50)                0         \n",
            "_________________________________________________________________\n",
            "dense_4 (Dense)              (None, 1)                 51        \n",
            "=================================================================\n",
            "Total params: 71,051\n",
            "Trainable params: 71,051\n",
            "Non-trainable params: 0\n",
            "_________________________________________________________________\n"
          ],
          "name": "stdout"
        }
      ]
    },
    {
      "cell_type": "code",
      "metadata": {
        "id": "Hj1pUWQUTPVw",
        "colab_type": "code",
        "colab": {}
      },
      "source": [
        "regressor.compile(optimizer='RMSProp',loss='mean_squared_error')"
      ],
      "execution_count": 0,
      "outputs": []
    },
    {
      "cell_type": "code",
      "metadata": {
        "id": "B_FnhR0dTSkH",
        "colab_type": "code",
        "colab": {
          "base_uri": "https://localhost:8080/",
          "height": 714
        },
        "outputId": "85f823a0-01e8-496e-9a63-73f67fc2678d"
      },
      "source": [
        "regressor.fit(X_train,y_train,epochs=20,batch_size=32)"
      ],
      "execution_count": 132,
      "outputs": [
        {
          "output_type": "stream",
          "text": [
            "Epoch 1/20\n",
            "4851/4851 [==============================] - 46s 9ms/step - loss: 0.0078\n",
            "Epoch 2/20\n",
            "4851/4851 [==============================] - 41s 8ms/step - loss: 0.0041\n",
            "Epoch 3/20\n",
            "4851/4851 [==============================] - 41s 8ms/step - loss: 0.0035\n",
            "Epoch 4/20\n",
            "4851/4851 [==============================] - 41s 9ms/step - loss: 0.0027\n",
            "Epoch 5/20\n",
            "4851/4851 [==============================] - 41s 8ms/step - loss: 0.0023\n",
            "Epoch 6/20\n",
            "4851/4851 [==============================] - 41s 9ms/step - loss: 0.0022\n",
            "Epoch 7/20\n",
            "4851/4851 [==============================] - 41s 9ms/step - loss: 0.0021\n",
            "Epoch 8/20\n",
            "4851/4851 [==============================] - 41s 8ms/step - loss: 0.0018\n",
            "Epoch 9/20\n",
            "4851/4851 [==============================] - 41s 8ms/step - loss: 0.0018\n",
            "Epoch 10/20\n",
            "4851/4851 [==============================] - 41s 9ms/step - loss: 0.0017\n",
            "Epoch 11/20\n",
            "4851/4851 [==============================] - 42s 9ms/step - loss: 0.0016\n",
            "Epoch 12/20\n",
            "4851/4851 [==============================] - 41s 9ms/step - loss: 0.0016\n",
            "Epoch 13/20\n",
            "4851/4851 [==============================] - 41s 8ms/step - loss: 0.0015\n",
            "Epoch 14/20\n",
            "4851/4851 [==============================] - 42s 9ms/step - loss: 0.0014\n",
            "Epoch 15/20\n",
            "4851/4851 [==============================] - 41s 9ms/step - loss: 0.0014\n",
            "Epoch 16/20\n",
            "4851/4851 [==============================] - 47s 10ms/step - loss: 0.0014\n",
            "Epoch 17/20\n",
            "4851/4851 [==============================] - 42s 9ms/step - loss: 0.0012\n",
            "Epoch 18/20\n",
            "4851/4851 [==============================] - 42s 9ms/step - loss: 0.0013\n",
            "Epoch 19/20\n",
            "4851/4851 [==============================] - 42s 9ms/step - loss: 0.0013\n",
            "Epoch 20/20\n",
            "4851/4851 [==============================] - 42s 9ms/step - loss: 0.0013\n"
          ],
          "name": "stdout"
        },
        {
          "output_type": "execute_result",
          "data": {
            "text/plain": [
              "<keras.callbacks.callbacks.History at 0x7fda3e971b38>"
            ]
          },
          "metadata": {
            "tags": []
          },
          "execution_count": 132
        }
      ]
    },
    {
      "cell_type": "code",
      "metadata": {
        "id": "T7zbihqebQoD",
        "colab_type": "code",
        "colab": {}
      },
      "source": [
        "real_stock_price = dataset_test.iloc[:,1:2].values"
      ],
      "execution_count": 0,
      "outputs": []
    },
    {
      "cell_type": "code",
      "metadata": {
        "id": "d4z0iD4KbaGn",
        "colab_type": "code",
        "colab": {}
      },
      "source": [
        "dataset_total = pd.concat((dataset_train['1. open'],dataset_test['1. open']),axis=0)"
      ],
      "execution_count": 0,
      "outputs": []
    },
    {
      "cell_type": "code",
      "metadata": {
        "id": "fOLNLWHQbdzs",
        "colab_type": "code",
        "colab": {}
      },
      "source": [
        "inputs = dataset_total[len(dataset_total)-len(dataset_test)-120:].values"
      ],
      "execution_count": 0,
      "outputs": []
    },
    {
      "cell_type": "code",
      "metadata": {
        "id": "XpE-w1-Tbflw",
        "colab_type": "code",
        "colab": {}
      },
      "source": [
        "inputs = inputs.reshape(-1,1)"
      ],
      "execution_count": 0,
      "outputs": []
    },
    {
      "cell_type": "code",
      "metadata": {
        "id": "SexO1I1rbhfS",
        "colab_type": "code",
        "colab": {}
      },
      "source": [
        "inputs = scale.transform(inputs)"
      ],
      "execution_count": 0,
      "outputs": []
    },
    {
      "cell_type": "code",
      "metadata": {
        "id": "6aATzGDibjR2",
        "colab_type": "code",
        "colab": {}
      },
      "source": [
        "X_test = []\n",
        "for i in range(120,180):\n",
        "    X_test.append(inputs[i-120:i,0])\n",
        "X_test = np.array(X_test)\n",
        "X_test = np.reshape(X_test,(X_test.shape[0],X_test.shape[1],1))"
      ],
      "execution_count": 0,
      "outputs": []
    },
    {
      "cell_type": "code",
      "metadata": {
        "id": "tTBHq-bXblH7",
        "colab_type": "code",
        "colab": {}
      },
      "source": [
        "predicted_stock_price = regressor.predict(X_test)\n",
        "predicted_stock_price = scale.inverse_transform(predicted_stock_price)"
      ],
      "execution_count": 0,
      "outputs": []
    },
    {
      "cell_type": "code",
      "metadata": {
        "id": "XQ-o9JUobnYG",
        "colab_type": "code",
        "colab": {
          "base_uri": "https://localhost:8080/",
          "height": 513
        },
        "outputId": "6d872e83-93e7-47e3-fa77-69f56768343f"
      },
      "source": [
        "plt.figure(figsize=(25,8))\n",
        "plt.plot(real_stock_price,color='red',label='Actual Stock Price')\n",
        "plt.plot(predicted_stock_price,color='blue',label='Predicted Stock Price')\n",
        "plt.title('XYZ Stock Price Prediction')\n",
        "plt.xlabel('Time')\n",
        "plt.ylabel('XYZ Stock Price')\n",
        "plt.legend()\n",
        "plt.show()"
      ],
      "execution_count": 141,
      "outputs": [
        {
          "output_type": "display_data",
          "data": {
            "image/png": "[encoded data removed]",
            "text/plain": [
              "<Figure size 1800x576 with 1 Axes>"
            ]
          },
          "metadata": {
            "tags": [],
            "needs_background": "light"
          }
        }
      ]
    },
    {
      "cell_type": "markdown",
      "metadata": {
        "id": "JNLFFXqBaSxS",
        "colab_type": "text"
      },
      "source": [
        "# References"
      ]
    },
    {
      "cell_type": "markdown",
      "metadata": {
        "id": "QrchHtQoadfV",
        "colab_type": "text"
      },
      "source": [
        "https://towardsdatascience.com/illustrated-guide-to-lstms-and-gru-s-a-step-by-step-explanation-44e9eb85bf21"
      ]
    }
  ]
}