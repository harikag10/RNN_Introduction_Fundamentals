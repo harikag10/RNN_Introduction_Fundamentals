{
  "nbformat": 4,
  "nbformat_minor": 0,
  "metadata": {
    "colab": {
      "name": "RNN_Theory.ipynb",
      "provenance": [],
      "collapsed_sections": [],
      "toc_visible": true,
      "include_colab_link": true
    },
    "kernelspec": {
      "name": "python3",
      "display_name": "Python 3"
    }
  },
  "cells": [
    {
      "cell_type": "markdown",
      "metadata": {
        "id": "view-in-github",
        "colab_type": "text"
      },
      "source": [
        "<a href=\"https://colab.research.google.com/github/ikyath/RNN_Introduction_Fundamentals/blob/master/RNN_Theory.ipynb\" target=\"_parent\"><img src=\"https://colab.research.google.com/assets/colab-badge.svg\" alt=\"Open In Colab\"/></a>"
      ]
    },
    {
      "cell_type": "markdown",
      "metadata": {
        "id": "kLyGaLAlk1Pa",
        "colab_type": "text"
      },
      "source": [
        "# Introduction\n"
      ]
    },
    {
      "cell_type": "markdown",
      "metadata": {
        "id": "hC5R0m-_qEiJ",
        "colab_type": "text"
      },
      "source": [
        "Time Series"
      ]
    },
    {
      "cell_type": "markdown",
      "metadata": {
        "id": "n6kY_z_wqQSJ",
        "colab_type": "text"
      },
      "source": [
        "A time series is a series of data points indexed (or listed or graphed) in time order. Most commonly, a time series is a sequence taken at successive equally spaced points in time. Thus it is a sequence of discrete-time data\n",
        "\n",
        "\n",
        "\n",
        "\n",
        "\n",
        "\n",
        "\n",
        "\n",
        "\n"
      ]
    },
    {
      "cell_type": "markdown",
      "metadata": {
        "id": "A-Z4S5NDrPXJ",
        "colab_type": "text"
      },
      "source": [
        "Example - Weather\n",
        "\n",
        "Weather is a dynamical System\n",
        "\n",
        "  See : Chaos Theory,Butterfly effect"
      ]
    },
    {
      "cell_type": "markdown",
      "metadata": {
        "id": "gy3xWZoosYZc",
        "colab_type": "text"
      },
      "source": [
        "![alt text](https://i.ytimg.com/vi/D6jln7pqn70/maxresdefault.jpg)"
      ]
    },
    {
      "cell_type": "markdown",
      "metadata": {
        "id": "q9C7s7VqsHhR",
        "colab_type": "text"
      },
      "source": [
        "This is that even if we have the exact deterministic equations to describe a weather system our forecast will still become more and more incorrect.\n",
        "\n",
        "The further into the future we try to predict that's pretty counterintuitive because you would think if you have the exact equation for something then you should be able to calculate all the future values precisely but due to the butterfly effect this is not actually true.\n",
        "\n",
        "As the saying goes a butterfly flapping its wings in Tokyo can cause a tornado in America.\n",
        "\n",
        "Small and decisions like numerical round off error and your computer will ultimately lead it to your weather forecast being completely wrong eventually.This is actually really relevant to us because when you think of time series and our own ends you automatically"
      ]
    },
    {
      "cell_type": "markdown",
      "metadata": {
        "id": "XyGEAFgxtB5m",
        "colab_type": "text"
      },
      "source": [
        "![alt text](https://media.graytvinc.com/images/810*455/lnk+wx1.jpg)\n",
        "\n",
        "\n",
        "\n",
        "\n",
        "\n",
        "\n",
        "\n",
        "\n",
        "\n",
        "\n",
        "\n",
        "\n",
        "\n",
        "\n",
        "\n",
        "\n",
        "\n",
        "\n",
        "\n",
        "\n"
      ]
    },
    {
      "cell_type": "markdown",
      "metadata": {
        "id": "Y07WWouiu4Xk",
        "colab_type": "text"
      },
      "source": [
        "Another type of Sequential data is Text but in machine learning we don't consider it as sequence"
      ]
    },
    {
      "cell_type": "markdown",
      "metadata": {
        "id": "Pcjzxwj50NbL",
        "colab_type": "text"
      },
      "source": [
        "Forecasting is about to predict the next values in a timeseries"
      ]
    },
    {
      "cell_type": "markdown",
      "metadata": {
        "id": "beh-APbe2nwp",
        "colab_type": "text"
      },
      "source": [
        "# RNNs"
      ]
    },
    {
      "cell_type": "markdown",
      "metadata": {
        "id": "nnRW4pVZ3LDL",
        "colab_type": "text"
      },
      "source": [
        "\n",
        "\n",
        "*  The brain consists of billion of neurons, without any single duration.\n",
        "*  A Decision made now is not only based only on what you hear/see now.\n",
        "*  We can think and reason based on past inputs.\n",
        "*  What happens if we add feedback loops and memory to neural network.\n",
        "\n",
        "\n",
        "\n",
        "\n",
        "\n",
        "\n",
        "\n"
      ]
    },
    {
      "cell_type": "markdown",
      "metadata": {
        "id": "GAxleSxI-SDT",
        "colab_type": "text"
      },
      "source": [
        "Traditional neural networks can’t do this, and it seems like a major shortcoming. For example, imagine you want to classify what kind of event is happening at every point in a movie. It’s unclear how a traditional neural network could use its reasoning about previous events in the film to inform later ones."
      ]
    },
    {
      "cell_type": "markdown",
      "metadata": {
        "id": "vbtrdIqcLw1-",
        "colab_type": "text"
      },
      "source": [
        "### Problem of Long-term dependencies\n",
        "\n"
      ]
    },
    {
      "cell_type": "markdown",
      "metadata": {
        "id": "gWMQpg1pL47X",
        "colab_type": "text"
      },
      "source": [
        "The basic idea of RNN is connecting the previous information to the present task. But there are scenarios where we would need only the most recent information and other cases where we need a whole lot of old, meaning information needed more context. \n",
        "Let us denote this as  the gap between the relevant information and the place where it is needed. As the gap grows, RNNs will not be able to learn to connect the information.\n",
        "LSTMs do not have this kind of problem and are able to learn the long term dependencies. Let us discuss how"
      ]
    },
    {
      "cell_type": "markdown",
      "metadata": {
        "id": "hBOl_mIlaqFa",
        "colab_type": "text"
      },
      "source": [
        "# LSTMs"
      ]
    },
    {
      "cell_type": "markdown",
      "metadata": {
        "id": "NvgS4pfmasRo",
        "colab_type": "text"
      },
      "source": [
        "LSTMs are special kind of RNNs, designed explicitly to overcome the long term dependency problem. The repeating modules of neural networks in LSTM have a complex structure compared to that of RNN.\n",
        "The repeating module in LSTM has four interacting layers\n",
        "Memory cell\n",
        "\n",
        "*   Memory cell\n",
        "*   Forget gate\n",
        "*   Input \n",
        "*   Output\n",
        "\n",
        "\n",
        "\n",
        "\n"
      ]
    },
    {
      "cell_type": "markdown",
      "metadata": {
        "id": "Qd6QKUqOduiq",
        "colab_type": "text"
      },
      "source": [
        "![alt text](https://colah.github.io/posts/2015-08-Understanding-LSTMs/img/LSTM3-chain.png)"
      ]
    },
    {
      "cell_type": "markdown",
      "metadata": {
        "id": "FiBvIYKXd5ll",
        "colab_type": "text"
      },
      "source": [
        "Now lets look familiarize with the notations \n",
        "![alt text](https://colah.github.io/posts/2015-08-Understanding-LSTMs/img/LSTM2-notation.png)"
      ]
    },
    {
      "cell_type": "markdown",
      "metadata": {
        "id": "diB_Icdceauc",
        "colab_type": "text"
      },
      "source": [
        "\n",
        "\n",
        "*   Memory/Cell-state - This is represented as the horizontal layer running through the top of the diagram. It has some linear transformations as pointwise multiplication and addition\n",
        "*   Gates - These are used to optionally let information through using sigmoid neural network layers, which outputs in either 0 or 1, representing the information which we want to leave or the information we want to persist.\n",
        "\n"
      ]
    },
    {
      "cell_type": "markdown",
      "metadata": {
        "id": "A7LqfLpIxjU8",
        "colab_type": "text"
      },
      "source": [
        "## Walk-through of LSTM"
      ]
    },
    {
      "cell_type": "markdown",
      "metadata": {
        "id": "4RhPOYSAxtzW",
        "colab_type": "text"
      },
      "source": [
        "Let us consider an example of text prediction, where we are trying to predict the next word based on the previous words to understand the working of LSTM metwork."
      ]
    },
    {
      "cell_type": "markdown",
      "metadata": {
        "id": "eMQ7qLhZdpij",
        "colab_type": "text"
      },
      "source": [
        "Firstly, we need to decide what information we want to remember and what to forget. This is decided using a sigmoid layer called the 'forget gate' layer. Here the output of sigmod activation function as we know is between 0 and 1 for each number in the cell state C(t-1), taking as inputs  h(t-1), the output from the previous layer and the x(t), the current input of the layer.\n",
        "A '0' indicates that we can forget about that information and discard it and '1' indicates that we need to remember it.\n",
        "\n",
        "Let us understand it by going to back to our language model. Suppose, we are talking about a subject's gender, but we have the next input as a new subject, we would want to ignore that information about the gender of the previous subject. This is achieved using the forget gate as discussed above."
      ]
    },
    {
      "cell_type": "markdown",
      "metadata": {
        "id": "wX9bdYuThDIP",
        "colab_type": "text"
      },
      "source": [
        "The next step is to decide what new information we are going to add to the cell state.\n",
        "\n",
        "This is done in 2 steps.\n",
        "First the sigmoid layer or the input gate layer is used to decide what values we want to update and then the tanh layer results in a vector of new values that can be added. So the state gets updated with the new values.\n",
        "\n",
        "So in our example, we want to add the information about the gender of the new subject which replaces the old value, that we want to forget.The cell state gets updated.\n",
        "\n",
        "Finally we want the output. In this case, the sigmoid layer decides what parts of the cell state we want to ouput. The cell state C(t) is also passes through tanh which outputs values between -1 and +1. This is multiplied by the output of the sigmoid layer and results in the required parts.\n",
        "\n",
        "So in our language example, as the network has seen the subject, it might want to output something relevant to what comes next. Say, if a verb is followed next, the network might output  if the subject is singular or plural, so that we will know what form of verb to be added.\n",
        "\n",
        "There are many variants of LSTM, \n",
        "- One introduced by Gers & Schmidhuber (2000), is adding “peephole connections.”, which means that the gate layers can take a look at the cell state.\n",
        "- Another variation is to use coupled forget and input gates\n",
        "- Another important variant is the Gated Recurrent Unit, which we are going to dicuss in a little detail here."
      ]
    },
    {
      "cell_type": "markdown",
      "metadata": {
        "id": "VQ2YCLbW7GzQ",
        "colab_type": "text"
      },
      "source": [
        "# GRUs"
      ]
    },
    {
      "cell_type": "markdown",
      "metadata": {
        "id": "FhcDfEhl7JfN",
        "colab_type": "text"
      },
      "source": [
        "\n",
        "\n",
        "GRUs are imporved version of standard recurrent neural networks also defined as RNNs which have gated mechanism.\n",
        "*  It was introduced by Kyunghyun Cho in 2014. [Refer Here](https://arxiv.org/abs/1406.1078)\n",
        "*  The GRU is like a long short-term memory (LSTM) with forget gate but has fewer parameters than LSTM, as it lacks an output gate.\n",
        "*   The GRU is the newer generation of Recurrent Neural networks and is pretty similar to an LSTM. GRU’s got rid of the cell state and used the hidden state to transfer information. It also only has two gates, a reset gate and update gate.\n",
        "\n",
        "\n",
        "\n",
        "\n",
        "\n",
        "\n",
        "\n",
        "\n",
        "\n"
      ]
    },
    {
      "cell_type": "markdown",
      "metadata": {
        "id": "tl5pIpEL9Z00",
        "colab_type": "text"
      },
      "source": [
        "#### Architecture of GRUs"
      ]
    },
    {
      "cell_type": "markdown",
      "metadata": {
        "id": "oZ63eg41aKqI",
        "colab_type": "text"
      },
      "source": [
        "![alt text](https://miro.medium.com/max/1400/1*jhi5uOm9PvZfmxvfaCektw.png)"
      ]
    },
    {
      "cell_type": "markdown",
      "metadata": {
        "id": "yQKIUPTpauTT",
        "colab_type": "text"
      },
      "source": [
        "Update Gate : First, we have the Update gate. This gate decides what information should be thrown away or kept. Information from the previous hidden state and information from the current input is passed through the sigmoid function. Values come out between 0 and 1. The closer to 0 means to forget, and the closer to 1 means to keep."
      ]
    },
    {
      "cell_type": "markdown",
      "metadata": {
        "id": "LjNu1M1rbIAU",
        "colab_type": "text"
      },
      "source": [
        "Reset Gate :\n",
        "The reset gate is another gate is used to decide how much past information to forget."
      ]
    },
    {
      "cell_type": "markdown",
      "metadata": {
        "id": "Mw5mItzXFF9S",
        "colab_type": "text"
      },
      "source": [
        "#LSTM Example"
      ]
    },
    {
      "cell_type": "markdown",
      "metadata": {
        "id": "V2mF9cT9LX5I",
        "colab_type": "text"
      },
      "source": [
        "Here we are trying to predict the stock price of Apple. Its pretty challangeing to predict since there is Brownian Motion which states that we couldnt predict future variations in stock prices using past data but its actually possible to predict trends in data "
      ]
    },
    {
      "cell_type": "markdown",
      "metadata": {
        "id": "xp97o8TvMWKR",
        "colab_type": "text"
      },
      "source": [
        "\n",
        "\n",
        "*   We will make an LSTM Model that will try to capture upward and downward trends in the selected stock price\n",
        "*   We are gonna implement a Stacked LSTM and dropout layers to avoid overfitting.\n",
        "\n"
      ]
    },
    {
      "cell_type": "markdown",
      "metadata": {
        "id": "nmjWPn3gMwhM",
        "colab_type": "text"
      },
      "source": [
        "We will try to predict the last 60 days using the data from 2000 to 2019."
      ]
    },
    {
      "cell_type": "code",
      "metadata": {
        "id": "Um31HmrtFU6y",
        "colab_type": "code",
        "outputId": "a3498c39-03ee-46dc-8ee5-34f7c3b4ab38",
        "colab": {
          "base_uri": "https://localhost:8080/",
          "height": 275
        }
      },
      "source": [
        "!pip install alpha-vantage"
      ],
      "execution_count": 0,
      "outputs": [
        {
          "output_type": "stream",
          "text": [
            "Collecting alpha-vantage\n",
            "  Downloading https://files.pythonhosted.org/packages/c9/72/c3a2a8371f94515a2f0b1203dc152cf8d82dc17baeea0c1af5a23d10eca7/alpha_vantage-2.1.3.tar.gz\n",
            "Requirement already satisfied: requests in /usr/local/lib/python3.6/dist-packages (from alpha-vantage) (2.21.0)\n",
            "Requirement already satisfied: chardet<3.1.0,>=3.0.2 in /usr/local/lib/python3.6/dist-packages (from requests->alpha-vantage) (3.0.4)\n",
            "Requirement already satisfied: urllib3<1.25,>=1.21.1 in /usr/local/lib/python3.6/dist-packages (from requests->alpha-vantage) (1.24.3)\n",
            "Requirement already satisfied: idna<2.9,>=2.5 in /usr/local/lib/python3.6/dist-packages (from requests->alpha-vantage) (2.8)\n",
            "Requirement already satisfied: certifi>=2017.4.17 in /usr/local/lib/python3.6/dist-packages (from requests->alpha-vantage) (2020.4.5.1)\n",
            "Building wheels for collected packages: alpha-vantage\n",
            "  Building wheel for alpha-vantage (setup.py) ... \u001b[?25l\u001b[?25hdone\n",
            "  Created wheel for alpha-vantage: filename=alpha_vantage-2.1.3-cp36-none-any.whl size=14870 sha256=7c6623e4d7868bd72aead8c45f61867469aaa6fe7c9fd8d8229aceb550e10888\n",
            "  Stored in directory: /root/.cache/pip/wheels/d4/75/c2/483b0a988fd965b1128c1396a0ffadfb8903bd2bb569220048\n",
            "Successfully built alpha-vantage\n",
            "Installing collected packages: alpha-vantage\n",
            "Successfully installed alpha-vantage-2.1.3\n"
          ],
          "name": "stdout"
        }
      ]
    },
    {
      "cell_type": "code",
      "metadata": {
        "id": "mdk2tg2OFNvi",
        "colab_type": "code",
        "outputId": "1af0fec8-4e3e-4991-b2fc-cc95b3e4f1ab",
        "colab": {
          "base_uri": "https://localhost:8080/",
          "height": 34
        }
      },
      "source": [
        "import numpy as np\n",
        "import pandas as pd\n",
        "import matplotlib.pyplot as plt\n",
        "from sklearn.preprocessing import MinMaxScaler\n",
        "from keras.models import Sequential\n",
        "from keras.layers import Dense,LSTM,Dropout"
      ],
      "execution_count": 0,
      "outputs": [
        {
          "output_type": "stream",
          "text": [
            "Using TensorFlow backend.\n"
          ],
          "name": "stderr"
        }
      ]
    },
    {
      "cell_type": "code",
      "metadata": {
        "id": "-dXlcoCtFQXE",
        "colab_type": "code",
        "outputId": "789c504a-eb63-497e-b702-fd4d6aa923ee",
        "colab": {
          "base_uri": "https://localhost:8080/",
          "height": 34
        }
      },
      "source": [
        "from alpha_vantage.timeseries import TimeSeries\n",
        "from pprint import pprint\n",
        "ts = TimeSeries(key='5W7LO5BBKDO63VCC', output_format='pandas',indexing_type='integer')\n",
        "dataset, meta_data = ts.get_daily(symbol='AAPL', outputsize='full')\n",
        "print(dataset.shape)"
      ],
      "execution_count": 47,
      "outputs": [
        {
          "output_type": "stream",
          "text": [
            "(5031, 6)\n"
          ],
          "name": "stdout"
        }
      ]
    },
    {
      "cell_type": "code",
      "metadata": {
        "id": "jShR1Gd4FgFi",
        "colab_type": "code",
        "outputId": "ce3ea269-12be-45e3-e625-e12dd12264aa",
        "colab": {
          "base_uri": "https://localhost:8080/",
          "height": 235
        }
      },
      "source": [
        "dataset.head()"
      ],
      "execution_count": 68,
      "outputs": [
        {
          "output_type": "execute_result",
          "data": {
            "text/html": [
              "<div>\n",
              "<style scoped>\n",
              "    .dataframe tbody tr th:only-of-type {\n",
              "        vertical-align: middle;\n",
              "    }\n",
              "\n",
              "    .dataframe tbody tr th {\n",
              "        vertical-align: top;\n",
              "    }\n",
              "\n",
              "    .dataframe thead th {\n",
              "        text-align: right;\n",
              "    }\n",
              "</style>\n",
              "<table border=\"1\" class=\"dataframe\">\n",
              "  <thead>\n",
              "    <tr style=\"text-align: right;\">\n",
              "      <th></th>\n",
              "      <th>index</th>\n",
              "      <th>1. open</th>\n",
              "      <th>2. high</th>\n",
              "      <th>3. low</th>\n",
              "      <th>4. close</th>\n",
              "      <th>5. volume</th>\n",
              "    </tr>\n",
              "    <tr>\n",
              "      <th>index</th>\n",
              "      <th></th>\n",
              "      <th></th>\n",
              "      <th></th>\n",
              "      <th></th>\n",
              "      <th></th>\n",
              "      <th></th>\n",
              "    </tr>\n",
              "  </thead>\n",
              "  <tbody>\n",
              "    <tr>\n",
              "      <th>0</th>\n",
              "      <td>2020-04-15</td>\n",
              "      <td>282.40</td>\n",
              "      <td>286.33</td>\n",
              "      <td>280.63</td>\n",
              "      <td>284.43</td>\n",
              "      <td>32077880.0</td>\n",
              "    </tr>\n",
              "    <tr>\n",
              "      <th>1</th>\n",
              "      <td>2020-04-14</td>\n",
              "      <td>280.00</td>\n",
              "      <td>288.25</td>\n",
              "      <td>278.05</td>\n",
              "      <td>287.05</td>\n",
              "      <td>48748672.0</td>\n",
              "    </tr>\n",
              "    <tr>\n",
              "      <th>2</th>\n",
              "      <td>2020-04-13</td>\n",
              "      <td>268.31</td>\n",
              "      <td>273.70</td>\n",
              "      <td>265.83</td>\n",
              "      <td>273.25</td>\n",
              "      <td>32755731.0</td>\n",
              "    </tr>\n",
              "    <tr>\n",
              "      <th>3</th>\n",
              "      <td>2020-04-09</td>\n",
              "      <td>268.70</td>\n",
              "      <td>270.07</td>\n",
              "      <td>264.70</td>\n",
              "      <td>267.99</td>\n",
              "      <td>40529123.0</td>\n",
              "    </tr>\n",
              "    <tr>\n",
              "      <th>4</th>\n",
              "      <td>2020-04-08</td>\n",
              "      <td>262.74</td>\n",
              "      <td>267.37</td>\n",
              "      <td>261.23</td>\n",
              "      <td>266.07</td>\n",
              "      <td>42223821.0</td>\n",
              "    </tr>\n",
              "  </tbody>\n",
              "</table>\n",
              "</div>"
            ],
            "text/plain": [
              "            index  1. open  2. high  3. low  4. close   5. volume\n",
              "index                                                            \n",
              "0      2020-04-15   282.40   286.33  280.63    284.43  32077880.0\n",
              "1      2020-04-14   280.00   288.25  278.05    287.05  48748672.0\n",
              "2      2020-04-13   268.31   273.70  265.83    273.25  32755731.0\n",
              "3      2020-04-09   268.70   270.07  264.70    267.99  40529123.0\n",
              "4      2020-04-08   262.74   267.37  261.23    266.07  42223821.0"
            ]
          },
          "metadata": {
            "tags": []
          },
          "execution_count": 68
        }
      ]
    },
    {
      "cell_type": "markdown",
      "metadata": {
        "id": "sTlPEgArPKSU",
        "colab_type": "text"
      },
      "source": [
        "Lets sort the data in increasing order of date"
      ]
    },
    {
      "cell_type": "code",
      "metadata": {
        "id": "U9zsGEzIPIx5",
        "colab_type": "code",
        "colab": {}
      },
      "source": [
        "dataset = dataset.iloc[::-1]"
      ],
      "execution_count": 0,
      "outputs": []
    },
    {
      "cell_type": "code",
      "metadata": {
        "id": "NM1hp2meP0kC",
        "colab_type": "code",
        "colab": {}
      },
      "source": [
        "dataset = dataset.set_index(pd.Series(range(dataset.shape[0])))"
      ],
      "execution_count": 0,
      "outputs": []
    },
    {
      "cell_type": "code",
      "metadata": {
        "id": "XQurKi6zPc_l",
        "colab_type": "code",
        "colab": {
          "base_uri": "https://localhost:8080/",
          "height": 204
        },
        "outputId": "d6142121-dfae-4fd2-d529-06c0ced077cb"
      },
      "source": [
        "dataset.head()"
      ],
      "execution_count": 73,
      "outputs": [
        {
          "output_type": "execute_result",
          "data": {
            "text/html": [
              "<div>\n",
              "<style scoped>\n",
              "    .dataframe tbody tr th:only-of-type {\n",
              "        vertical-align: middle;\n",
              "    }\n",
              "\n",
              "    .dataframe tbody tr th {\n",
              "        vertical-align: top;\n",
              "    }\n",
              "\n",
              "    .dataframe thead th {\n",
              "        text-align: right;\n",
              "    }\n",
              "</style>\n",
              "<table border=\"1\" class=\"dataframe\">\n",
              "  <thead>\n",
              "    <tr style=\"text-align: right;\">\n",
              "      <th></th>\n",
              "      <th>index</th>\n",
              "      <th>1. open</th>\n",
              "      <th>2. high</th>\n",
              "      <th>3. low</th>\n",
              "      <th>4. close</th>\n",
              "      <th>5. volume</th>\n",
              "    </tr>\n",
              "  </thead>\n",
              "  <tbody>\n",
              "    <tr>\n",
              "      <th>0</th>\n",
              "      <td>2000-04-14</td>\n",
              "      <td>109.31</td>\n",
              "      <td>118.00</td>\n",
              "      <td>109.00</td>\n",
              "      <td>111.87</td>\n",
              "      <td>5960900.0</td>\n",
              "    </tr>\n",
              "    <tr>\n",
              "      <th>1</th>\n",
              "      <td>2000-04-17</td>\n",
              "      <td>109.50</td>\n",
              "      <td>123.94</td>\n",
              "      <td>109.06</td>\n",
              "      <td>123.87</td>\n",
              "      <td>3656800.0</td>\n",
              "    </tr>\n",
              "    <tr>\n",
              "      <th>2</th>\n",
              "      <td>2000-04-18</td>\n",
              "      <td>123.50</td>\n",
              "      <td>126.87</td>\n",
              "      <td>119.37</td>\n",
              "      <td>126.87</td>\n",
              "      <td>3490400.0</td>\n",
              "    </tr>\n",
              "    <tr>\n",
              "      <th>3</th>\n",
              "      <td>2000-04-19</td>\n",
              "      <td>126.19</td>\n",
              "      <td>130.25</td>\n",
              "      <td>119.75</td>\n",
              "      <td>121.12</td>\n",
              "      <td>4644200.0</td>\n",
              "    </tr>\n",
              "    <tr>\n",
              "      <th>4</th>\n",
              "      <td>2000-04-20</td>\n",
              "      <td>123.69</td>\n",
              "      <td>124.75</td>\n",
              "      <td>117.06</td>\n",
              "      <td>118.87</td>\n",
              "      <td>6447500.0</td>\n",
              "    </tr>\n",
              "  </tbody>\n",
              "</table>\n",
              "</div>"
            ],
            "text/plain": [
              "        index  1. open  2. high  3. low  4. close  5. volume\n",
              "0  2000-04-14   109.31   118.00  109.00    111.87  5960900.0\n",
              "1  2000-04-17   109.50   123.94  109.06    123.87  3656800.0\n",
              "2  2000-04-18   123.50   126.87  119.37    126.87  3490400.0\n",
              "3  2000-04-19   126.19   130.25  119.75    121.12  4644200.0\n",
              "4  2000-04-20   123.69   124.75  117.06    118.87  6447500.0"
            ]
          },
          "metadata": {
            "tags": []
          },
          "execution_count": 73
        }
      ]
    },
    {
      "cell_type": "markdown",
      "metadata": {
        "id": "bqOtpnUnOe6a",
        "colab_type": "text"
      },
      "source": [
        "Lets us visualize the complete trend from 2000 to current day."
      ]
    },
    {
      "cell_type": "code",
      "metadata": {
        "id": "nNe1PEyAN9rL",
        "colab_type": "code",
        "colab": {
          "base_uri": "https://localhost:8080/",
          "height": 442
        },
        "outputId": "62084c55-2563-4472-f25d-e171cc857d44"
      },
      "source": [
        "plt.figure(figsize=(25,8))\n",
        "plt.plot(dataset['1. open'],color='green')"
      ],
      "execution_count": 74,
      "outputs": [
        {
          "output_type": "execute_result",
          "data": {
            "text/plain": [
              "[<matplotlib.lines.Line2D at 0x7fe4df0b52b0>]"
            ]
          },
          "metadata": {
            "tags": []
          },
          "execution_count": 74
        },
        {
          "output_type": "display_data",
          "data": {
            "image/png": "[encoded data removed]",
            "text/plain": [
              "<Figure size 1800x576 with 1 Axes>"
            ]
          },
          "metadata": {
            "tags": [],
            "needs_background": "light"
          }
        }
      ]
    },
    {
      "cell_type": "code",
      "metadata": {
        "id": "VlUv5oR-OqQh",
        "colab_type": "code",
        "colab": {
          "base_uri": "https://localhost:8080/",
          "height": 442
        },
        "outputId": "71871b70-dc42-4eed-b60d-1e4728326218"
      },
      "source": [
        "plt.figure(figsize=(25,8))\n",
        "plt.plot(dataset.iloc[-60:,1:2],color='green')"
      ],
      "execution_count": 75,
      "outputs": [
        {
          "output_type": "execute_result",
          "data": {
            "text/plain": [
              "[<matplotlib.lines.Line2D at 0x7fe4ddc6e438>]"
            ]
          },
          "metadata": {
            "tags": []
          },
          "execution_count": 75
        },
        {
          "output_type": "display_data",
          "data": {
            "image/png": "[encoded data removed]",
            "text/plain": [
              "<Figure size 1800x576 with 1 Axes>"
            ]
          },
          "metadata": {
            "tags": [],
            "needs_background": "light"
          }
        }
      ]
    },
    {
      "cell_type": "code",
      "metadata": {
        "id": "HcdPIVjrFmOR",
        "colab_type": "code",
        "outputId": "ce770bed-aad0-492c-aeea-c9cde63d9fc3",
        "colab": {
          "base_uri": "https://localhost:8080/",
          "height": 235
        }
      },
      "source": [
        "dataset.head()"
      ],
      "execution_count": 0,
      "outputs": [
        {
          "output_type": "execute_result",
          "data": {
            "text/html": [
              "<div>\n",
              "<style scoped>\n",
              "    .dataframe tbody tr th:only-of-type {\n",
              "        vertical-align: middle;\n",
              "    }\n",
              "\n",
              "    .dataframe tbody tr th {\n",
              "        vertical-align: top;\n",
              "    }\n",
              "\n",
              "    .dataframe thead th {\n",
              "        text-align: right;\n",
              "    }\n",
              "</style>\n",
              "<table border=\"1\" class=\"dataframe\">\n",
              "  <thead>\n",
              "    <tr style=\"text-align: right;\">\n",
              "      <th></th>\n",
              "      <th>index</th>\n",
              "      <th>1. open</th>\n",
              "      <th>2. high</th>\n",
              "      <th>3. low</th>\n",
              "      <th>4. close</th>\n",
              "      <th>5. volume</th>\n",
              "    </tr>\n",
              "    <tr>\n",
              "      <th>index</th>\n",
              "      <th></th>\n",
              "      <th></th>\n",
              "      <th></th>\n",
              "      <th></th>\n",
              "      <th></th>\n",
              "      <th></th>\n",
              "    </tr>\n",
              "  </thead>\n",
              "  <tbody>\n",
              "    <tr>\n",
              "      <th>5030</th>\n",
              "      <td>2000-04-14</td>\n",
              "      <td>109.31</td>\n",
              "      <td>118.00</td>\n",
              "      <td>109.00</td>\n",
              "      <td>111.87</td>\n",
              "      <td>5960900.0</td>\n",
              "    </tr>\n",
              "    <tr>\n",
              "      <th>5029</th>\n",
              "      <td>2000-04-17</td>\n",
              "      <td>109.50</td>\n",
              "      <td>123.94</td>\n",
              "      <td>109.06</td>\n",
              "      <td>123.87</td>\n",
              "      <td>3656800.0</td>\n",
              "    </tr>\n",
              "    <tr>\n",
              "      <th>5028</th>\n",
              "      <td>2000-04-18</td>\n",
              "      <td>123.50</td>\n",
              "      <td>126.87</td>\n",
              "      <td>119.37</td>\n",
              "      <td>126.87</td>\n",
              "      <td>3490400.0</td>\n",
              "    </tr>\n",
              "    <tr>\n",
              "      <th>5027</th>\n",
              "      <td>2000-04-19</td>\n",
              "      <td>126.19</td>\n",
              "      <td>130.25</td>\n",
              "      <td>119.75</td>\n",
              "      <td>121.12</td>\n",
              "      <td>4644200.0</td>\n",
              "    </tr>\n",
              "    <tr>\n",
              "      <th>5026</th>\n",
              "      <td>2000-04-20</td>\n",
              "      <td>123.69</td>\n",
              "      <td>124.75</td>\n",
              "      <td>117.06</td>\n",
              "      <td>118.87</td>\n",
              "      <td>6447500.0</td>\n",
              "    </tr>\n",
              "  </tbody>\n",
              "</table>\n",
              "</div>"
            ],
            "text/plain": [
              "            index  1. open  2. high  3. low  4. close  5. volume\n",
              "index                                                           \n",
              "5030   2000-04-14   109.31   118.00  109.00    111.87  5960900.0\n",
              "5029   2000-04-17   109.50   123.94  109.06    123.87  3656800.0\n",
              "5028   2000-04-18   123.50   126.87  119.37    126.87  3490400.0\n",
              "5027   2000-04-19   126.19   130.25  119.75    121.12  4644200.0\n",
              "5026   2000-04-20   123.69   124.75  117.06    118.87  6447500.0"
            ]
          },
          "metadata": {
            "tags": []
          },
          "execution_count": 11
        }
      ]
    },
    {
      "cell_type": "code",
      "metadata": {
        "id": "awbmITtwFqMG",
        "colab_type": "code",
        "colab": {}
      },
      "source": [
        "dataset_train = dataset.iloc[:4971,:]"
      ],
      "execution_count": 0,
      "outputs": []
    },
    {
      "cell_type": "code",
      "metadata": {
        "id": "oRaOIWLcFrWH",
        "colab_type": "code",
        "colab": {}
      },
      "source": [
        "dataset_test = dataset.iloc[-60:,:]"
      ],
      "execution_count": 0,
      "outputs": []
    },
    {
      "cell_type": "code",
      "metadata": {
        "id": "3t7Hk2XoFt5-",
        "colab_type": "code",
        "outputId": "ac3c7d0d-6d64-4d48-bdf2-402a763adc7e",
        "colab": {
          "base_uri": "https://localhost:8080/",
          "height": 34
        }
      },
      "source": [
        "print(dataset_train.shape,dataset_test.shape)"
      ],
      "execution_count": 0,
      "outputs": [
        {
          "output_type": "stream",
          "text": [
            "(4971, 6) (60, 6)\n"
          ],
          "name": "stdout"
        }
      ]
    },
    {
      "cell_type": "code",
      "metadata": {
        "id": "qgwxF8MuFydS",
        "colab_type": "code",
        "colab": {}
      },
      "source": [
        "train = dataset_train.iloc[:,1:2].values"
      ],
      "execution_count": 0,
      "outputs": []
    },
    {
      "cell_type": "code",
      "metadata": {
        "id": "pGWsi-KtF2tQ",
        "colab_type": "code",
        "outputId": "4176600b-56cb-4b9f-fd05-54734f2e815b",
        "colab": {
          "base_uri": "https://localhost:8080/",
          "height": 187
        }
      },
      "source": [
        "train[:10]"
      ],
      "execution_count": 0,
      "outputs": [
        {
          "output_type": "execute_result",
          "data": {
            "text/plain": [
              "array([[109.31],\n",
              "       [109.5 ],\n",
              "       [123.5 ],\n",
              "       [126.19],\n",
              "       [123.69],\n",
              "       [115.  ],\n",
              "       [122.12],\n",
              "       [126.62],\n",
              "       [117.19],\n",
              "       [127.12]])"
            ]
          },
          "metadata": {
            "tags": []
          },
          "execution_count": 16
        }
      ]
    },
    {
      "cell_type": "code",
      "metadata": {
        "id": "Ywf2pTYCF5oi",
        "colab_type": "code",
        "colab": {}
      },
      "source": [
        "scale = MinMaxScaler(feature_range=(0,1))"
      ],
      "execution_count": 0,
      "outputs": []
    },
    {
      "cell_type": "code",
      "metadata": {
        "id": "4CmVyQLjF6rF",
        "colab_type": "code",
        "colab": {}
      },
      "source": [
        "train_scaled = scale.fit_transform(train)"
      ],
      "execution_count": 0,
      "outputs": []
    },
    {
      "cell_type": "code",
      "metadata": {
        "id": "C7JYIEMYF9K3",
        "colab_type": "code",
        "outputId": "ef0712c7-fe2c-42dc-fa77-20742bcc3ca2",
        "colab": {
          "base_uri": "https://localhost:8080/",
          "height": 187
        }
      },
      "source": [
        "train_scaled[:10]"
      ],
      "execution_count": 0,
      "outputs": [
        {
          "output_type": "execute_result",
          "data": {
            "text/plain": [
              "array([[0.13971164],\n",
              "       [0.13998724],\n",
              "       [0.16029416],\n",
              "       [0.16419599],\n",
              "       [0.16056975],\n",
              "       [0.14796496],\n",
              "       [0.15829248],\n",
              "       [0.1648197 ],\n",
              "       [0.15114154],\n",
              "       [0.16554495]])"
            ]
          },
          "metadata": {
            "tags": []
          },
          "execution_count": 19
        }
      ]
    },
    {
      "cell_type": "code",
      "metadata": {
        "id": "NVoppuNWF_Zt",
        "colab_type": "code",
        "colab": {}
      },
      "source": [
        "X_train = []\n",
        "y_train = []\n",
        "for i in range(120,4971):\n",
        "    X_train.append(train_scaled[i-120:i,0])\n",
        "    y_train.append(train_scaled[i,0])\n",
        "X_train,y_train = np.array(X_train),np.array(y_train)"
      ],
      "execution_count": 0,
      "outputs": []
    },
    {
      "cell_type": "code",
      "metadata": {
        "id": "xtuNmunDGDzv",
        "colab_type": "code",
        "colab": {}
      },
      "source": [
        "X_train = np.reshape(X_train,(X_train.shape[0],X_train.shape[1],1))"
      ],
      "execution_count": 0,
      "outputs": []
    },
    {
      "cell_type": "code",
      "metadata": {
        "id": "Hc_Ds3HjGG9J",
        "colab_type": "code",
        "colab": {}
      },
      "source": [
        "regressor = Sequential()\n",
        "regressor.add(LSTM(units=50,return_sequences=True,input_shape = (X_train.shape[1],1)))\n",
        "regressor.add(Dropout(0.2))\n",
        "regressor.add(LSTM(units=50,return_sequences=True))\n",
        "regressor.add(Dropout(0.2))\n",
        "regressor.add(LSTM(units=50,return_sequences=True))\n",
        "regressor.add(Dropout(0.2))\n",
        "regressor.add(LSTM(units=50))\n",
        "regressor.add(Dropout(0.2))\n",
        "regressor.add(Dense(units=1))"
      ],
      "execution_count": 0,
      "outputs": []
    },
    {
      "cell_type": "code",
      "metadata": {
        "id": "OV2JrBCKGUWq",
        "colab_type": "code",
        "outputId": "8b6aa124-344c-4dde-d732-97ba0de76751",
        "colab": {
          "base_uri": "https://localhost:8080/",
          "height": 459
        }
      },
      "source": [
        "regressor.summary()"
      ],
      "execution_count": 0,
      "outputs": [
        {
          "output_type": "stream",
          "text": [
            "Model: \"sequential_1\"\n",
            "_________________________________________________________________\n",
            "Layer (type)                 Output Shape              Param #   \n",
            "=================================================================\n",
            "lstm_1 (LSTM)                (None, 120, 50)           10400     \n",
            "_________________________________________________________________\n",
            "dropout_1 (Dropout)          (None, 120, 50)           0         \n",
            "_________________________________________________________________\n",
            "lstm_2 (LSTM)                (None, 120, 50)           20200     \n",
            "_________________________________________________________________\n",
            "dropout_2 (Dropout)          (None, 120, 50)           0         \n",
            "_________________________________________________________________\n",
            "lstm_3 (LSTM)                (None, 120, 50)           20200     \n",
            "_________________________________________________________________\n",
            "dropout_3 (Dropout)          (None, 120, 50)           0         \n",
            "_________________________________________________________________\n",
            "lstm_4 (LSTM)                (None, 50)                20200     \n",
            "_________________________________________________________________\n",
            "dropout_4 (Dropout)          (None, 50)                0         \n",
            "_________________________________________________________________\n",
            "dense_1 (Dense)              (None, 1)                 51        \n",
            "=================================================================\n",
            "Total params: 71,051\n",
            "Trainable params: 71,051\n",
            "Non-trainable params: 0\n",
            "_________________________________________________________________\n"
          ],
          "name": "stdout"
        }
      ]
    },
    {
      "cell_type": "code",
      "metadata": {
        "id": "Gfzd2Rx1GX_4",
        "colab_type": "code",
        "colab": {}
      },
      "source": [
        "regressor.compile(optimizer='RMSProp',loss='mean_squared_error')"
      ],
      "execution_count": 0,
      "outputs": []
    },
    {
      "cell_type": "code",
      "metadata": {
        "id": "bnQcwnvoGbZV",
        "colab_type": "code",
        "outputId": "050e48dc-056d-4ec9-bdb4-244dec80acc4",
        "colab": {
          "base_uri": "https://localhost:8080/",
          "height": 714
        }
      },
      "source": [
        "regressor.fit(X_train,y_train,epochs=20,batch_size=32)"
      ],
      "execution_count": 0,
      "outputs": [
        {
          "output_type": "stream",
          "text": [
            "Epoch 1/20\n",
            "4851/4851 [==============================] - 41s 8ms/step - loss: 0.0078\n",
            "Epoch 2/20\n",
            "4851/4851 [==============================] - 41s 8ms/step - loss: 0.0040\n",
            "Epoch 3/20\n",
            "4851/4851 [==============================] - 41s 8ms/step - loss: 0.0030\n",
            "Epoch 4/20\n",
            "4851/4851 [==============================] - 41s 8ms/step - loss: 0.0026\n",
            "Epoch 5/20\n",
            "4851/4851 [==============================] - 41s 8ms/step - loss: 0.0022\n",
            "Epoch 6/20\n",
            "4851/4851 [==============================] - 41s 8ms/step - loss: 0.0022\n",
            "Epoch 7/20\n",
            "4851/4851 [==============================] - 41s 8ms/step - loss: 0.0019\n",
            "Epoch 8/20\n",
            "4851/4851 [==============================] - 41s 8ms/step - loss: 0.0018\n",
            "Epoch 9/20\n",
            "4851/4851 [==============================] - 41s 8ms/step - loss: 0.0017\n",
            "Epoch 10/20\n",
            "4851/4851 [==============================] - 41s 9ms/step - loss: 0.0017\n",
            "Epoch 11/20\n",
            "4851/4851 [==============================] - 41s 8ms/step - loss: 0.0016\n",
            "Epoch 12/20\n",
            "4851/4851 [==============================] - 41s 8ms/step - loss: 0.0015\n",
            "Epoch 13/20\n",
            "4851/4851 [==============================] - 41s 8ms/step - loss: 0.0015\n",
            "Epoch 14/20\n",
            "4851/4851 [==============================] - 41s 8ms/step - loss: 0.0016\n",
            "Epoch 15/20\n",
            "4851/4851 [==============================] - 41s 8ms/step - loss: 0.0013\n",
            "Epoch 16/20\n",
            "4851/4851 [==============================] - 41s 8ms/step - loss: 0.0014\n",
            "Epoch 17/20\n",
            "4851/4851 [==============================] - 41s 9ms/step - loss: 0.0013\n",
            "Epoch 18/20\n",
            "4851/4851 [==============================] - 41s 8ms/step - loss: 0.0013\n",
            "Epoch 19/20\n",
            "4851/4851 [==============================] - 41s 8ms/step - loss: 0.0013\n",
            "Epoch 20/20\n",
            "4851/4851 [==============================] - 41s 8ms/step - loss: 0.0013\n"
          ],
          "name": "stdout"
        },
        {
          "output_type": "execute_result",
          "data": {
            "text/plain": [
              "<keras.callbacks.callbacks.History at 0x7fe4ea183eb8>"
            ]
          },
          "metadata": {
            "tags": []
          },
          "execution_count": 26
        }
      ]
    },
    {
      "cell_type": "code",
      "metadata": {
        "id": "qV7kjnjYGcwB",
        "colab_type": "code",
        "colab": {}
      },
      "source": [
        "real_stock_price = dataset_test.iloc[:,1:2].values"
      ],
      "execution_count": 0,
      "outputs": []
    },
    {
      "cell_type": "code",
      "metadata": {
        "id": "hl_HIw5MGgHn",
        "colab_type": "code",
        "colab": {}
      },
      "source": [
        "dataset_total = pd.concat((dataset_train['1. open'],dataset_test['1. open']),axis=0)"
      ],
      "execution_count": 0,
      "outputs": []
    },
    {
      "cell_type": "code",
      "metadata": {
        "id": "-G9thpc5Gjpw",
        "colab_type": "code",
        "colab": {}
      },
      "source": [
        "inputs = dataset_total[len(dataset_total)-len(dataset_test)-120:].values"
      ],
      "execution_count": 0,
      "outputs": []
    },
    {
      "cell_type": "code",
      "metadata": {
        "id": "LgaKZ_5-GnTw",
        "colab_type": "code",
        "colab": {}
      },
      "source": [
        "inputs = inputs.reshape(-1,1)"
      ],
      "execution_count": 0,
      "outputs": []
    },
    {
      "cell_type": "code",
      "metadata": {
        "id": "C8s-xaahGpAf",
        "colab_type": "code",
        "colab": {}
      },
      "source": [
        "inputs = scale.transform(inputs)"
      ],
      "execution_count": 0,
      "outputs": []
    },
    {
      "cell_type": "code",
      "metadata": {
        "id": "Zb0jlVZxGrAC",
        "colab_type": "code",
        "colab": {}
      },
      "source": [
        "X_test = []\n",
        "for i in range(120,180):\n",
        "    X_test.append(inputs[i-120:i,0])\n",
        "X_test = np.array(X_test)\n",
        "X_test = np.reshape(X_test,(X_test.shape[0],X_test.shape[1],1))"
      ],
      "execution_count": 0,
      "outputs": []
    },
    {
      "cell_type": "code",
      "metadata": {
        "id": "a9NonPG6GttM",
        "colab_type": "code",
        "colab": {}
      },
      "source": [
        "predicted_stock_price = regressor.predict(X_test)\n",
        "predicted_stock_price = scale.inverse_transform(predicted_stock_price)"
      ],
      "execution_count": 0,
      "outputs": []
    },
    {
      "cell_type": "code",
      "metadata": {
        "id": "h0Sk6puxGvUL",
        "colab_type": "code",
        "outputId": "08ef181c-2cb0-450f-c5bb-82dbd82ab810",
        "colab": {
          "base_uri": "https://localhost:8080/",
          "height": 513
        }
      },
      "source": [
        "plt.figure(figsize=(20,8))\n",
        "plt.plot(real_stock_price,color='red',label='Actual Stock Price')\n",
        "plt.plot(predicted_stock_price,color='blue',label='Predicted Stock Price')\n",
        "plt.title('Apple Stock Price Prediction',color='blue')\n",
        "plt.xlabel('Time')\n",
        "plt.ylabel('XYZ Stock Price')\n",
        "plt.legend()\n",
        "plt.show()"
      ],
      "execution_count": 76,
      "outputs": [
        {
          "output_type": "display_data",
          "data": {
            "image/png": "[encoded data removed]",
            "text/plain": [
              "<Figure size 1440x576 with 1 Axes>"
            ]
          },
          "metadata": {
            "tags": [],
            "needs_background": "light"
          }
        }
      ]
    },
    {
      "cell_type": "markdown",
      "metadata": {
        "id": "JNLFFXqBaSxS",
        "colab_type": "text"
      },
      "source": [
        "# References"
      ]
    },
    {
      "cell_type": "markdown",
      "metadata": {
        "id": "QrchHtQoadfV",
        "colab_type": "text"
      },
      "source": [
        "https://towardsdatascience.com/illustrated-guide-to-lstms-and-gru-s-a-step-by-step-explanation-44e9eb85bf21"
      ]
    },
    {
      "cell_type": "code",
      "metadata": {
        "id": "eq3qHGc7aeIK",
        "colab_type": "code",
        "colab": {}
      },
      "source": [
        ""
      ],
      "execution_count": 0,
      "outputs": []
    }
  ]
}